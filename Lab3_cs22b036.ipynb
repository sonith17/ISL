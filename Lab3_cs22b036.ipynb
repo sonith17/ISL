{
  "nbformat": 4,
  "nbformat_minor": 0,
  "metadata": {
    "colab": {
      "provenance": []
    },
    "kernelspec": {
      "name": "python3",
      "display_name": "Python 3"
    },
    "language_info": {
      "name": "python"
    }
  },
  "cells": [
    {
      "cell_type": "code",
      "execution_count": 1,
      "metadata": {
        "id": "GXZ1QWB_8ONx"
      },
      "outputs": [],
      "source": [
        "import torch"
      ]
    },
    {
      "cell_type": "code",
      "source": [
        "x = torch.linspace(0,2,2000)\n",
        "x"
      ],
      "metadata": {
        "colab": {
          "base_uri": "https://localhost:8080/"
        },
        "id": "VSSqAwkE-vNv",
        "outputId": "0161e792-f15e-4403-fdf0-29f02d9a2942"
      },
      "execution_count": 2,
      "outputs": [
        {
          "output_type": "execute_result",
          "data": {
            "text/plain": [
              "tensor([0.0000e+00, 1.0005e-03, 2.0010e-03,  ..., 1.9980e+00, 1.9990e+00,\n",
              "        2.0000e+00])"
            ]
          },
          "metadata": {},
          "execution_count": 2
        }
      ]
    },
    {
      "cell_type": "code",
      "source": [
        "y = 2.3 + 3.12*(x)+3*(x**2)+6.98*(x**3)\n",
        "y"
      ],
      "metadata": {
        "colab": {
          "base_uri": "https://localhost:8080/"
        },
        "id": "iCFIe98QCBH_",
        "outputId": "f2d3f4d5-eb9f-493c-fc4e-4c50cebb64a1"
      },
      "execution_count": 3,
      "outputs": [
        {
          "output_type": "execute_result",
          "data": {
            "text/plain": [
              "tensor([ 2.3000,  2.3031,  2.3063,  ..., 76.1823, 76.2811, 76.3800])"
            ]
          },
          "metadata": {},
          "execution_count": 3
        }
      ]
    },
    {
      "cell_type": "code",
      "source": [
        "a,b,c,d = torch.randn((1),requires_grad=True),torch.randn((1),requires_grad=True),torch.randn((1),requires_grad=True),torch.randn((1),requires_grad=True)\n",
        "a,b,c,d"
      ],
      "metadata": {
        "colab": {
          "base_uri": "https://localhost:8080/"
        },
        "id": "3hbbUNwV-v9v",
        "outputId": "04c762f9-ceb7-4399-9359-9969d3b54c98"
      },
      "execution_count": 4,
      "outputs": [
        {
          "output_type": "execute_result",
          "data": {
            "text/plain": [
              "(tensor([-0.6197], requires_grad=True),\n",
              " tensor([-0.2549], requires_grad=True),\n",
              " tensor([0.1743], requires_grad=True),\n",
              " tensor([0.2304], requires_grad=True))"
            ]
          },
          "metadata": {},
          "execution_count": 4
        }
      ]
    },
    {
      "cell_type": "code",
      "source": [
        "lr = 0.0000001\n",
        "for i in range(1000):\n",
        "  y_pred = a+b*(x)+c*(x**2)+d*(x**3)\n",
        "  loss = (y_pred-y).pow(2).sum()\n",
        "  if i%100==0:\n",
        "    print(i,loss.item())\n",
        "  loss.backward()\n",
        "\n",
        "  with torch.no_grad(): #to avoid building derivation tree again and again for each variable\n",
        "    a-=lr*a.grad\n",
        "    b-=lr*b.grad\n",
        "    c-=lr*c.grad\n",
        "    d-=lr*d.grad\n",
        "\n",
        "    a.grad = None\n",
        "    b.grad = None\n",
        "    c.grad = None\n",
        "    d.grad = None\n",
        "\n",
        "\n",
        "\n",
        "\n",
        "print(f'y = {a.item()}+{b.item()}x+{c.item()}x^2+{d.item()}x^3')"
      ],
      "metadata": {
        "colab": {
          "base_uri": "https://localhost:8080/"
        },
        "id": "Cf0L-hvc-wS0",
        "outputId": "7d58c8fd-1c45-4286-8c43-14d44bba46a5"
      },
      "execution_count": 5,
      "outputs": [
        {
          "output_type": "stream",
          "name": "stdout",
          "text": [
            "0 1949190.75\n",
            "100 636365.375\n",
            "200 208669.484375\n",
            "300 69288.25\n",
            "400 23822.751953125\n",
            "500 8951.3720703125\n",
            "600 4048.458984375\n",
            "700 2395.5390625\n",
            "800 1804.0736083984375\n",
            "900 1561.034423828125\n",
            "y = 1.2672640085220337+2.3045458793640137x+4.157716751098633x^2+6.805000305175781x^3\n"
          ]
        }
      ]
    },
    {
      "cell_type": "code",
      "source": [],
      "metadata": {
        "id": "JvtT8sZdCqLg"
      },
      "execution_count": 5,
      "outputs": []
    }
  ]
}