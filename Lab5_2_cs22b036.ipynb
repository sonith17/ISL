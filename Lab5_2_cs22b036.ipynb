{
  "nbformat": 4,
  "nbformat_minor": 0,
  "metadata": {
    "colab": {
      "provenance": [],
      "gpuType": "T4"
    },
    "kernelspec": {
      "name": "python3",
      "display_name": "Python 3"
    },
    "language_info": {
      "name": "python"
    },
    "accelerator": "GPU"
  },
  "cells": [
    {
      "cell_type": "code",
      "execution_count": null,
      "metadata": {
        "id": "47gv_UexQEJr"
      },
      "outputs": [],
      "source": [
        "from torch.utils.data import DataLoader,Dataset\n",
        "import torch\n",
        "import torchvision.transforms as transforms\n",
        "from torchvision import datasets\n",
        "import torchvision.models as models\n",
        "import torchvision\n",
        "import matplotlib.pyplot as plt\n",
        "import numpy as np\n",
        "from tqdm import tqdm"
      ]
    },
    {
      "cell_type": "code",
      "source": [
        "device = torch.device(\"cuda\" if torch.cuda.is_available() else \"cpu\")\n",
        "print(device)"
      ],
      "metadata": {
        "colab": {
          "base_uri": "https://localhost:8080/"
        },
        "id": "f2P-j8-tQO0E",
        "outputId": "a05638f6-1af7-4319-e315-f039b0b0cc50"
      },
      "execution_count": null,
      "outputs": [
        {
          "output_type": "stream",
          "name": "stdout",
          "text": [
            "cuda\n"
          ]
        }
      ]
    },
    {
      "cell_type": "code",
      "source": [
        "train_data = datasets.MNIST(root='./data',train=True,download=True,transform=torchvision.transforms.ToTensor())\n",
        "test_data = datasets.MNIST(root='./data',train=False,download=True,transform=torchvision.transforms.ToTensor())\n",
        "train_loader = DataLoader(train_data,batch_size=64,shuffle=True)\n",
        "test_loader = DataLoader(test_data,batch_size=64,shuffle=True)"
      ],
      "metadata": {
        "id": "UkBOCkmMQTE4"
      },
      "execution_count": null,
      "outputs": []
    },
    {
      "cell_type": "code",
      "source": [
        "class Autoencoder(torch.nn.Module):\n",
        "    def __init__(self):\n",
        "        super(Autoencoder,self).__init__()\n",
        "        self.relu = torch.nn.ReLU()\n",
        "        self.sigmoid = torch.nn.Sigmoid()\n",
        "        self.flatten = torch.nn.Flatten()\n",
        "        self.unflatten = torch.nn.Unflatten(1,(1,28,28))\n",
        "        self.softmax = torch.nn.Softmax()\n",
        "        self.fc1 = torch.nn.Linear(784,256)\n",
        "        self.fc2 = torch.nn.Linear(256,256)\n",
        "        self.fc3 = torch.nn.Linear(256,256)\n",
        "        self.fc4 = torch.nn.Linear(256,128)\n",
        "        self.fc5 = torch.nn.Linear(128,256)\n",
        "        self.fc6 = torch.nn.Linear(256,256)\n",
        "        self.fc7 = torch.nn.Linear(256,256)\n",
        "        self.fc8 = torch.nn.Linear(256,784)\n",
        "        self.fc9 = torch.nn.Linear(128,10)\n",
        "\n",
        "    def forward(self,x):\n",
        "        xe = self.encode(x)\n",
        "        x1 = self.decode(xe)\n",
        "        y_pred = self.classify(xe)\n",
        "        return x1,y_pred\n",
        "    def encode(self,x):\n",
        "        x = self.flatten(x)\n",
        "        x = self.fc1(x)\n",
        "        x = self.relu(x)\n",
        "        x = self.fc2(x)\n",
        "        x = self.relu(x)\n",
        "        x = self.fc3(x)\n",
        "        x = self.relu(x)\n",
        "        x = self.fc4(x)\n",
        "        x = self.relu(x)\n",
        "        return x\n",
        "    def decode(self,x):\n",
        "        x = self.relu(x)\n",
        "        x = self.fc5(x)\n",
        "        x = self.relu(x)\n",
        "        x = self.fc6(x)\n",
        "        x = self.relu(x)\n",
        "        x = self.fc7(x)\n",
        "        x = self.relu(x)\n",
        "        x = self.fc8(x)\n",
        "        x = self.sigmoid(x)\n",
        "        x = self.unflatten(x)\n",
        "        return x\n",
        "    def classify(self,x):\n",
        "        x = self.fc9(x)\n",
        "        x = self.softmax(x)\n",
        "        return x"
      ],
      "metadata": {
        "id": "HdkT90gOQVj2"
      },
      "execution_count": null,
      "outputs": []
    },
    {
      "cell_type": "code",
      "source": [
        "model = Autoencoder().to(device)\n",
        "epochs = 10\n",
        "optimizer = torch.optim.Adam(model.parameters(),lr=0.001)\n",
        "criterion = torch.nn.MSELoss()\n",
        "criterion2 = torch.nn.CrossEntropyLoss()"
      ],
      "metadata": {
        "id": "S8L8h56XR3wP"
      },
      "execution_count": null,
      "outputs": []
    },
    {
      "cell_type": "code",
      "source": [
        "for epoch in range(epochs):\n",
        "    correct = 0\n",
        "    total = 0\n",
        "    for data in tqdm(train_loader):\n",
        "        img,label = data\n",
        "        img = img.to(device)\n",
        "        label = label.to(device)\n",
        "        output,y_pred = model(img)\n",
        "        loss = criterion(output,img) + criterion2(y_pred,label)\n",
        "        optimizer.zero_grad()\n",
        "        loss.backward()\n",
        "        optimizer.step()\n",
        "        _,predicted = torch.max(y_pred.data,1)\n",
        "        total += label.size(0)\n",
        "        correct += (predicted == label).sum().item()\n",
        "    print(f'epoch: {epoch}, loss: {loss.item()}, Accuracy: {correct*100//total}')"
      ],
      "metadata": {
        "colab": {
          "base_uri": "https://localhost:8080/"
        },
        "id": "HUhQGyIrSFa4",
        "outputId": "f4538b3c-7408-4426-93aa-60e5cd7feaa0"
      },
      "execution_count": null,
      "outputs": [
        {
          "output_type": "stream",
          "name": "stderr",
          "text": [
            "\r  0%|          | 0/938 [00:00<?, ?it/s]/usr/local/lib/python3.11/dist-packages/torch/nn/modules/module.py:1736: UserWarning: Implicit dimension choice for softmax has been deprecated. Change the call to include dim=X as an argument.\n",
            "  return self._call_impl(*args, **kwargs)\n",
            "100%|██████████| 938/938 [00:09<00:00, 101.56it/s]\n"
          ]
        },
        {
          "output_type": "stream",
          "name": "stdout",
          "text": [
            "epoch: 0, loss: 1.6411274671554565, Accuracy: 82\n"
          ]
        },
        {
          "output_type": "stream",
          "name": "stderr",
          "text": [
            "100%|██████████| 938/938 [00:08<00:00, 113.73it/s]\n"
          ]
        },
        {
          "output_type": "stream",
          "name": "stdout",
          "text": [
            "epoch: 1, loss: 1.6092846393585205, Accuracy: 93\n"
          ]
        },
        {
          "output_type": "stream",
          "name": "stderr",
          "text": [
            "100%|██████████| 938/938 [00:08<00:00, 105.08it/s]\n"
          ]
        },
        {
          "output_type": "stream",
          "name": "stdout",
          "text": [
            "epoch: 2, loss: 1.554251790046692, Accuracy: 94\n"
          ]
        },
        {
          "output_type": "stream",
          "name": "stderr",
          "text": [
            "100%|██████████| 938/938 [00:08<00:00, 105.19it/s]\n"
          ]
        },
        {
          "output_type": "stream",
          "name": "stdout",
          "text": [
            "epoch: 3, loss: 1.4880242347717285, Accuracy: 95\n"
          ]
        },
        {
          "output_type": "stream",
          "name": "stderr",
          "text": [
            "100%|██████████| 938/938 [00:08<00:00, 113.33it/s]\n"
          ]
        },
        {
          "output_type": "stream",
          "name": "stdout",
          "text": [
            "epoch: 4, loss: 1.5409038066864014, Accuracy: 95\n"
          ]
        },
        {
          "output_type": "stream",
          "name": "stderr",
          "text": [
            "100%|██████████| 938/938 [00:08<00:00, 105.49it/s]\n"
          ]
        },
        {
          "output_type": "stream",
          "name": "stdout",
          "text": [
            "epoch: 5, loss: 1.6112562417984009, Accuracy: 95\n"
          ]
        },
        {
          "output_type": "stream",
          "name": "stderr",
          "text": [
            "100%|██████████| 938/938 [00:08<00:00, 105.12it/s]\n"
          ]
        },
        {
          "output_type": "stream",
          "name": "stdout",
          "text": [
            "epoch: 6, loss: 1.5471490621566772, Accuracy: 95\n"
          ]
        },
        {
          "output_type": "stream",
          "name": "stderr",
          "text": [
            "100%|██████████| 938/938 [00:08<00:00, 106.52it/s]\n"
          ]
        },
        {
          "output_type": "stream",
          "name": "stdout",
          "text": [
            "epoch: 7, loss: 1.5513253211975098, Accuracy: 95\n"
          ]
        },
        {
          "output_type": "stream",
          "name": "stderr",
          "text": [
            "100%|██████████| 938/938 [00:08<00:00, 112.88it/s]\n"
          ]
        },
        {
          "output_type": "stream",
          "name": "stdout",
          "text": [
            "epoch: 8, loss: 1.5851624011993408, Accuracy: 95\n"
          ]
        },
        {
          "output_type": "stream",
          "name": "stderr",
          "text": [
            "100%|██████████| 938/938 [00:08<00:00, 106.50it/s]"
          ]
        },
        {
          "output_type": "stream",
          "name": "stdout",
          "text": [
            "epoch: 9, loss: 1.5168906450271606, Accuracy: 95\n"
          ]
        },
        {
          "output_type": "stream",
          "name": "stderr",
          "text": [
            "\n"
          ]
        }
      ]
    },
    {
      "cell_type": "code",
      "source": [
        "correct = 0\n",
        "total = 0\n",
        "for i,(input,label) in enumerate(test_loader):\n",
        "  input = input.to(device)\n",
        "  label = label.to(device)\n",
        "  output,y_pred = model(input)\n",
        "  _,predicted = torch.max(y_pred.data,1)\n",
        "  total += label.size(0)\n",
        "  correct += (predicted == label).sum().item()\n",
        "\n",
        "print(f'Test Accuracy: {(correct/total)*100}%')"
      ],
      "metadata": {
        "colab": {
          "base_uri": "https://localhost:8080/"
        },
        "id": "T3bDZDyoT09i",
        "outputId": "9ff29e5a-f12d-4392-df12-19f1e3837cd8"
      },
      "execution_count": null,
      "outputs": [
        {
          "output_type": "stream",
          "name": "stderr",
          "text": [
            "/usr/local/lib/python3.11/dist-packages/torch/nn/modules/module.py:1736: UserWarning: Implicit dimension choice for softmax has been deprecated. Change the call to include dim=X as an argument.\n",
            "  return self._call_impl(*args, **kwargs)\n"
          ]
        },
        {
          "output_type": "stream",
          "name": "stdout",
          "text": [
            "Test Accuracy: 94.08999999999999%\n"
          ]
        }
      ]
    }
  ]
}