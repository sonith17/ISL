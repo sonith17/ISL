{
  "nbformat": 4,
  "nbformat_minor": 0,
  "metadata": {
    "colab": {
      "provenance": [],
      "gpuType": "T4"
    },
    "kernelspec": {
      "name": "python3",
      "display_name": "Python 3"
    },
    "language_info": {
      "name": "python"
    },
    "accelerator": "GPU"
  },
  "cells": [
    {
      "cell_type": "code",
      "execution_count": null,
      "metadata": {
        "id": "hxvfBjGedimz"
      },
      "outputs": [],
      "source": [
        "from torch.utils.data import DataLoader,Dataset\n",
        "import torch\n",
        "import torchvision.transforms as transforms\n",
        "from torchvision import datasets\n",
        "import torchvision.models as models\n",
        "import torchvision\n",
        "import matplotlib.pyplot as plt\n",
        "import numpy as np\n",
        "from tqdm import tqdm"
      ]
    },
    {
      "cell_type": "code",
      "source": [
        "device = torch.device(\"cuda\" if torch.cuda.is_available() else \"cpu\")\n",
        "print(device)"
      ],
      "metadata": {
        "colab": {
          "base_uri": "https://localhost:8080/"
        },
        "id": "QpFeyu26eIPr",
        "outputId": "a4a91467-a45a-4bb8-c5d0-3e025848620e"
      },
      "execution_count": null,
      "outputs": [
        {
          "output_type": "stream",
          "name": "stdout",
          "text": [
            "cuda\n"
          ]
        }
      ]
    },
    {
      "cell_type": "code",
      "source": [
        "train_data = datasets.MNIST(root='./data',train=True,download=True,transform=torchvision.transforms.ToTensor())\n",
        "test_data = datasets.MNIST(root='./data',train=False,download=True,transform=torchvision.transforms.ToTensor())\n",
        "train_loader = DataLoader(train_data,batch_size=64,shuffle=True)\n",
        "test_loader = DataLoader(test_data,batch_size=64,shuffle=True)"
      ],
      "metadata": {
        "id": "ElEqNqdneKT2"
      },
      "execution_count": null,
      "outputs": []
    },
    {
      "cell_type": "code",
      "source": [
        "class Generator(torch.nn.Module):\n",
        "    def __init__(self):\n",
        "        super(Generator,self).__init__()\n",
        "        self.model = torch.nn.Sequential(\n",
        "              torch.nn.Linear(100,256),\n",
        "              torch.nn.LeakyReLU(0.2),\n",
        "              torch.nn.Linear(256,512),\n",
        "              torch.nn.LeakyReLU(0.2),\n",
        "              torch.nn.Linear(512,512),\n",
        "              torch.nn.LeakyReLU(0.2),\n",
        "              torch.nn.Linear(512,784),\n",
        "              torch.nn.Tanh()\n",
        "          )\n",
        "\n",
        "\n",
        "    def forward(self,x):\n",
        "        return self.model(x)\n",
        "\n",
        "class Discriminator(torch.nn.Module):\n",
        "    def __init__(self):\n",
        "        super(Discriminator,self).__init__()\n",
        "        self.model = torch.nn.Sequential(\n",
        "              torch.nn.Linear(784,512),\n",
        "              torch.nn.LeakyReLU(0.2),\n",
        "              torch.nn.Linear(512, 512),\n",
        "              torch.nn.LeakyReLU(0.2),\n",
        "              torch.nn.Linear(512, 256),\n",
        "              torch.nn.LeakyReLU(0.2),\n",
        "              torch.nn.Linear(256, 1),\n",
        "              torch.nn.Sigmoid()\n",
        "          )\n",
        "\n",
        "    def forward(self,x):\n",
        "        return self.model(x)\n"
      ],
      "metadata": {
        "id": "V03RAChjeltr"
      },
      "execution_count": null,
      "outputs": []
    },
    {
      "cell_type": "code",
      "source": [
        "generator = Generator().to(device)\n",
        "discriminator = Discriminator().to(device)\n",
        "gen_optim = torch.optim.Adam(generator.parameters(),lr=0.0002)\n",
        "dis_optim = torch.optim.Adam(discriminator.parameters(),lr=0.0002)\n",
        "loss = torch.nn.BCELoss()\n",
        "epochs = 20"
      ],
      "metadata": {
        "id": "HAYQ6PSPeS3H"
      },
      "execution_count": null,
      "outputs": []
    },
    {
      "cell_type": "code",
      "source": [
        "for epoch in range(epochs):\n",
        "    running_gen_loss = 0.0\n",
        "    running_dis_loss = 0.0\n",
        "    for (real_batch,_) in tqdm(train_loader):\n",
        "        real_data = real_batch.view(-1,784).to(device)\n",
        "        real_label = torch.ones(real_data.size(0),1).to(device)\n",
        "        fake_label = torch.zeros(real_data.size(0),1).to(device)\n",
        "        noise = torch.randn(real_data.size(0),100).to(device)\n",
        "        fake_data = generator(noise)\n",
        "\n",
        "        # train discrimator\n",
        "        discriminator.zero_grad()\n",
        "        real_predict = discriminator(real_data)\n",
        "        real_loss = loss(real_predict,real_label)\n",
        "        fake_predict = discriminator(fake_data.detach())\n",
        "        fake_loss = loss(fake_predict,fake_label)\n",
        "        d_loss = real_loss + fake_loss\n",
        "        d_loss.backward()\n",
        "        dis_optim.step()\n",
        "\n",
        "\n",
        "        generator.zero_grad()\n",
        "        predict = discriminator(fake_data)\n",
        "        g_loss = loss(predict,real_label)\n",
        "        g_loss.backward()\n",
        "        gen_optim.step()\n",
        "        running_gen_loss += g_loss.item()\n",
        "        running_dis_loss += d_loss.item()\n",
        "    print(f\"Epoch {epoch+1}/{epochs}, Discriminator Loss: {running_dis_loss}, Generator Loss: {running_gen_loss}\")\n",
        "\n"
      ],
      "metadata": {
        "colab": {
          "base_uri": "https://localhost:8080/"
        },
        "id": "qe0n_dAhha-V",
        "outputId": "e7441a15-2637-40d1-8fd3-4e591c02d381"
      },
      "execution_count": null,
      "outputs": [
        {
          "output_type": "stream",
          "name": "stderr",
          "text": [
            "100%|██████████| 938/938 [00:17<00:00, 54.47it/s]\n"
          ]
        },
        {
          "output_type": "stream",
          "name": "stdout",
          "text": [
            "Epoch 1/20, Discriminator Loss: 1136.2089152038097, Generator Loss: 1301.2550347596407\n"
          ]
        },
        {
          "output_type": "stream",
          "name": "stderr",
          "text": [
            "100%|██████████| 938/938 [00:12<00:00, 77.61it/s]\n"
          ]
        },
        {
          "output_type": "stream",
          "name": "stdout",
          "text": [
            "Epoch 2/20, Discriminator Loss: 778.415058478713, Generator Loss: 2179.1510405540466\n"
          ]
        },
        {
          "output_type": "stream",
          "name": "stderr",
          "text": [
            "100%|██████████| 938/938 [00:12<00:00, 77.14it/s]\n"
          ]
        },
        {
          "output_type": "stream",
          "name": "stdout",
          "text": [
            "Epoch 3/20, Discriminator Loss: 674.5124961286783, Generator Loss: 2211.2429488897324\n"
          ]
        },
        {
          "output_type": "stream",
          "name": "stderr",
          "text": [
            "100%|██████████| 938/938 [00:12<00:00, 77.31it/s]\n"
          ]
        },
        {
          "output_type": "stream",
          "name": "stdout",
          "text": [
            "Epoch 4/20, Discriminator Loss: 623.2351451963186, Generator Loss: 2205.9311698675156\n"
          ]
        },
        {
          "output_type": "stream",
          "name": "stderr",
          "text": [
            "100%|██████████| 938/938 [00:12<00:00, 72.70it/s]\n"
          ]
        },
        {
          "output_type": "stream",
          "name": "stdout",
          "text": [
            "Epoch 5/20, Discriminator Loss: 579.2634363025427, Generator Loss: 2388.2070422172546\n"
          ]
        },
        {
          "output_type": "stream",
          "name": "stderr",
          "text": [
            "100%|██████████| 938/938 [00:12<00:00, 74.67it/s]\n"
          ]
        },
        {
          "output_type": "stream",
          "name": "stdout",
          "text": [
            "Epoch 6/20, Discriminator Loss: 599.859623759985, Generator Loss: 2410.5178592205048\n"
          ]
        },
        {
          "output_type": "stream",
          "name": "stderr",
          "text": [
            "100%|██████████| 938/938 [00:12<00:00, 77.00it/s]\n"
          ]
        },
        {
          "output_type": "stream",
          "name": "stdout",
          "text": [
            "Epoch 7/20, Discriminator Loss: 509.9433482736349, Generator Loss: 2572.9548124074936\n"
          ]
        },
        {
          "output_type": "stream",
          "name": "stderr",
          "text": [
            "100%|██████████| 938/938 [00:12<00:00, 77.11it/s]\n"
          ]
        },
        {
          "output_type": "stream",
          "name": "stdout",
          "text": [
            "Epoch 8/20, Discriminator Loss: 444.66235277056694, Generator Loss: 2826.322656393051\n"
          ]
        },
        {
          "output_type": "stream",
          "name": "stderr",
          "text": [
            "100%|██████████| 938/938 [00:12<00:00, 76.94it/s]\n"
          ]
        },
        {
          "output_type": "stream",
          "name": "stdout",
          "text": [
            "Epoch 9/20, Discriminator Loss: 435.9041872024536, Generator Loss: 2783.4765635728836\n"
          ]
        },
        {
          "output_type": "stream",
          "name": "stderr",
          "text": [
            "100%|██████████| 938/938 [00:12<00:00, 76.86it/s]\n"
          ]
        },
        {
          "output_type": "stream",
          "name": "stdout",
          "text": [
            "Epoch 10/20, Discriminator Loss: 436.56405448168516, Generator Loss: 2821.886915206909\n"
          ]
        },
        {
          "output_type": "stream",
          "name": "stderr",
          "text": [
            "100%|██████████| 938/938 [00:12<00:00, 76.95it/s]\n"
          ]
        },
        {
          "output_type": "stream",
          "name": "stdout",
          "text": [
            "Epoch 11/20, Discriminator Loss: 397.7580281794071, Generator Loss: 2974.1960077285767\n"
          ]
        },
        {
          "output_type": "stream",
          "name": "stderr",
          "text": [
            "100%|██████████| 938/938 [00:12<00:00, 76.61it/s]\n"
          ]
        },
        {
          "output_type": "stream",
          "name": "stdout",
          "text": [
            "Epoch 12/20, Discriminator Loss: 384.1426925510168, Generator Loss: 3054.0684711933136\n"
          ]
        },
        {
          "output_type": "stream",
          "name": "stderr",
          "text": [
            "100%|██████████| 938/938 [00:12<00:00, 76.12it/s]\n"
          ]
        },
        {
          "output_type": "stream",
          "name": "stdout",
          "text": [
            "Epoch 13/20, Discriminator Loss: 338.57090888917446, Generator Loss: 3271.2139177322388\n"
          ]
        },
        {
          "output_type": "stream",
          "name": "stderr",
          "text": [
            "100%|██████████| 938/938 [00:12<00:00, 77.85it/s]\n"
          ]
        },
        {
          "output_type": "stream",
          "name": "stdout",
          "text": [
            "Epoch 14/20, Discriminator Loss: 308.7067012935877, Generator Loss: 3549.879760980606\n"
          ]
        },
        {
          "output_type": "stream",
          "name": "stderr",
          "text": [
            "100%|██████████| 938/938 [00:12<00:00, 77.73it/s]\n"
          ]
        },
        {
          "output_type": "stream",
          "name": "stdout",
          "text": [
            "Epoch 15/20, Discriminator Loss: 298.01711931079626, Generator Loss: 3559.0329706668854\n"
          ]
        },
        {
          "output_type": "stream",
          "name": "stderr",
          "text": [
            "100%|██████████| 938/938 [00:12<00:00, 76.02it/s]\n"
          ]
        },
        {
          "output_type": "stream",
          "name": "stdout",
          "text": [
            "Epoch 16/20, Discriminator Loss: 275.2141723036766, Generator Loss: 3699.5007679462433\n"
          ]
        },
        {
          "output_type": "stream",
          "name": "stderr",
          "text": [
            "100%|██████████| 938/938 [00:12<00:00, 73.77it/s]\n"
          ]
        },
        {
          "output_type": "stream",
          "name": "stdout",
          "text": [
            "Epoch 17/20, Discriminator Loss: 258.50346902012825, Generator Loss: 3945.3905396461487\n"
          ]
        },
        {
          "output_type": "stream",
          "name": "stderr",
          "text": [
            "100%|██████████| 938/938 [00:12<00:00, 75.84it/s]\n"
          ]
        },
        {
          "output_type": "stream",
          "name": "stdout",
          "text": [
            "Epoch 18/20, Discriminator Loss: 237.0785312280059, Generator Loss: 4001.3976740837097\n"
          ]
        },
        {
          "output_type": "stream",
          "name": "stderr",
          "text": [
            "100%|██████████| 938/938 [00:12<00:00, 76.08it/s]\n"
          ]
        },
        {
          "output_type": "stream",
          "name": "stdout",
          "text": [
            "Epoch 19/20, Discriminator Loss: 229.87095860019326, Generator Loss: 4147.09782910347\n"
          ]
        },
        {
          "output_type": "stream",
          "name": "stderr",
          "text": [
            "100%|██████████| 938/938 [00:12<00:00, 75.41it/s]"
          ]
        },
        {
          "output_type": "stream",
          "name": "stdout",
          "text": [
            "Epoch 20/20, Discriminator Loss: 204.53787329047918, Generator Loss: 4347.637500047684\n"
          ]
        },
        {
          "output_type": "stream",
          "name": "stderr",
          "text": [
            "\n"
          ]
        }
      ]
    },
    {
      "cell_type": "code",
      "source": [
        "generator.eval()\n",
        "with torch.no_grad():\n",
        "    z = torch.randn(16, 100).to(device)\n",
        "    samples =generator(z).cpu().view(-1, 28, 28)\n",
        "\n",
        "\n",
        "fig, axes = plt.subplots(4, 4, figsize=(8, 8))\n",
        "for i, ax in enumerate(axes.flatten()):\n",
        "    ax.imshow(samples[i], cmap=\"gray\")\n",
        "    ax.axis(\"off\")\n",
        "plt.show()\n",
        "\n",
        "\n"
      ],
      "metadata": {
        "colab": {
          "base_uri": "https://localhost:8080/",
          "height": 653
        },
        "id": "SW7x3l1ujtQC",
        "outputId": "8d686118-8404-49bc-f6e4-2f5123a6076f"
      },
      "execution_count": null,
      "outputs": [
        {
          "output_type": "display_data",
          "data": {
            "text/plain": [
              "<Figure size 800x800 with 16 Axes>"
            ],
            "image/png": "[encoded data removed]"
          },
          "metadata": {}
        }
      ]
    }
  ]
}