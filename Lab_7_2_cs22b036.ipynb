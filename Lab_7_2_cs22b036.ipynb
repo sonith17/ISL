{
  "nbformat": 4,
  "nbformat_minor": 0,
  "metadata": {
    "colab": {
      "provenance": [],
      "gpuType": "T4"
    },
    "kernelspec": {
      "name": "python3",
      "display_name": "Python 3"
    },
    "language_info": {
      "name": "python"
    },
    "accelerator": "GPU"
  },
  "cells": [
    {
      "cell_type": "code",
      "source": [
        "!wget https://download.pytorch.org/tutorial/data.zip\n",
        "!unzip data.zip\n"
      ],
      "metadata": {
        "colab": {
          "base_uri": "https://localhost:8080/"
        },
        "id": "tmUHmK3ebi53",
        "outputId": "e6387df0-cc5d-4be2-eb89-2c19f02bcc9e"
      },
      "execution_count": null,
      "outputs": [
        {
          "output_type": "stream",
          "name": "stdout",
          "text": [
            "--2025-02-28 12:36:06--  https://download.pytorch.org/tutorial/data.zip\n",
            "Resolving download.pytorch.org (download.pytorch.org)... 3.163.189.36, 3.163.189.46, 3.163.189.89, ...\n",
            "Connecting to download.pytorch.org (download.pytorch.org)|3.163.189.36|:443... connected.\n",
            "HTTP request sent, awaiting response... 200 OK\n",
            "Length: 2882130 (2.7M) [application/zip]\n",
            "Saving to: ‘data.zip’\n",
            "\n",
            "data.zip            100%[===================>]   2.75M  7.46MB/s    in 0.4s    \n",
            "\n",
            "2025-02-28 12:36:07 (7.46 MB/s) - ‘data.zip’ saved [2882130/2882130]\n",
            "\n",
            "Archive:  data.zip\n",
            "   creating: data/\n",
            "  inflating: data/eng-fra.txt        \n",
            "   creating: data/names/\n",
            "  inflating: data/names/Arabic.txt   \n",
            "  inflating: data/names/Chinese.txt  \n",
            "  inflating: data/names/Czech.txt    \n",
            "  inflating: data/names/Dutch.txt    \n",
            "  inflating: data/names/English.txt  \n",
            "  inflating: data/names/French.txt   \n",
            "  inflating: data/names/German.txt   \n",
            "  inflating: data/names/Greek.txt    \n",
            "  inflating: data/names/Irish.txt    \n",
            "  inflating: data/names/Italian.txt  \n",
            "  inflating: data/names/Japanese.txt  \n",
            "  inflating: data/names/Korean.txt   \n",
            "  inflating: data/names/Polish.txt   \n",
            "  inflating: data/names/Portuguese.txt  \n",
            "  inflating: data/names/Russian.txt  \n",
            "  inflating: data/names/Scottish.txt  \n",
            "  inflating: data/names/Spanish.txt  \n",
            "  inflating: data/names/Vietnamese.txt  \n"
          ]
        }
      ]
    },
    {
      "cell_type": "code",
      "execution_count": null,
      "metadata": {
        "id": "fFZhMgY4v_wY"
      },
      "outputs": [],
      "source": [
        "import torch\n",
        "import torch.nn as nn\n",
        "import torch.nn.functional as F\n",
        "import string\n",
        "import unicodedata\n",
        "import glob\n",
        "import os\n",
        "import time\n",
        "from torch.utils.data import Dataset\n",
        "import matplotlib.pyplot as plt\n",
        "import matplotlib.ticker as ticker"
      ]
    },
    {
      "cell_type": "code",
      "source": [
        "device = torch.device(\"cuda\" if torch.cuda.is_available() else \"cpu\")\n",
        "print(device)"
      ],
      "metadata": {
        "id": "BlAsKWBdwcBI",
        "colab": {
          "base_uri": "https://localhost:8080/"
        },
        "outputId": "6717d121-0158-4472-898a-e2c1780fc128"
      },
      "execution_count": null,
      "outputs": [
        {
          "output_type": "stream",
          "name": "stdout",
          "text": [
            "cuda\n"
          ]
        }
      ]
    },
    {
      "cell_type": "code",
      "source": [
        "allowed_characters = string.ascii_letters + \" .,;'\"\n",
        "n_letters = len(allowed_characters)\n",
        "\n",
        "\n",
        "def unicodeToAscii(s):\n",
        "    return ''.join(\n",
        "        c for c in unicodedata.normalize('NFD', s)\n",
        "        if unicodedata.category(c) != 'Mn'\n",
        "        and c in allowed_characters\n",
        "    )"
      ],
      "metadata": {
        "id": "ENKiklRsYD2g"
      },
      "execution_count": null,
      "outputs": []
    },
    {
      "cell_type": "code",
      "source": [
        "def letterToIndex(letter):\n",
        "    return allowed_characters.find(letter)\n",
        "\n",
        "def lineToTensor(line):\n",
        "    tensor = torch.zeros(len(line), 1, n_letters)\n",
        "    for li, letter in enumerate(line):\n",
        "        tensor[li][0][letterToIndex(letter)] = 1\n",
        "    return tensor"
      ],
      "metadata": {
        "id": "6dKr-YBaYOC0"
      },
      "execution_count": null,
      "outputs": []
    },
    {
      "cell_type": "code",
      "source": [
        "\n",
        "\n",
        "class NamesDataset(Dataset):\n",
        "\n",
        "    def __init__(self, data_dir):\n",
        "        self.data_dir = data_dir #for provenance of the dataset\n",
        "        self.load_time = time.localtime #for provenance of the dataset\n",
        "        labels_set = set() #set of all classes\n",
        "\n",
        "        self.data = []\n",
        "        self.data_tensors = []\n",
        "        self.labels = []\n",
        "        self.labels_tensors = []\n",
        "\n",
        "        #read all the ``.txt`` files in the specified directory\n",
        "        text_files = glob.glob(os.path.join(data_dir, '*.txt'))\n",
        "        for filename in text_files:\n",
        "            label = os.path.splitext(os.path.basename(filename))[0]\n",
        "            labels_set.add(label)\n",
        "            lines = open(filename, encoding='utf-8').read().strip().split('\\n')\n",
        "            for name in lines:\n",
        "                self.data.append(name)\n",
        "                self.data_tensors.append(lineToTensor(name))\n",
        "                self.labels.append(label)\n",
        "\n",
        "        #Cache the tensor representation of the labels\n",
        "        self.labels_uniq = list(labels_set)\n",
        "        for idx in range(len(self.labels)):\n",
        "            temp_tensor = torch.tensor([self.labels_uniq.index(self.labels[idx])], dtype=torch.long)\n",
        "            self.labels_tensors.append(temp_tensor)\n",
        "\n",
        "    def __len__(self):\n",
        "        return len(self.data)\n",
        "\n",
        "    def __getitem__(self, idx):\n",
        "        data_item = self.data[idx]\n",
        "        data_label = self.labels[idx]\n",
        "        data_tensor = self.data_tensors[idx]\n",
        "        label_tensor = self.labels_tensors[idx]\n",
        "\n",
        "        return label_tensor, data_tensor, data_label, data_item"
      ],
      "metadata": {
        "id": "19SoWtllYfBQ"
      },
      "execution_count": null,
      "outputs": []
    },
    {
      "cell_type": "code",
      "source": [
        "class rNN(torch.nn.Module):\n",
        "    def __init__(self, inps, hids):\n",
        "        super(rNN, self).__init__()\n",
        "        self.W_hh = nn.Linear(hids, hids, bias=False)  # Hidden-to-hidden weights\n",
        "        self.W_xh = nn.Linear(inps, hids, bias=False)  # Input-to-hidden weights\n",
        "        self.hidd = None  # Hidden state, initialized dynamically\n",
        "\n",
        "    def step(self, x):\n",
        "        if self.hidd is None or self.hidd.shape[0] != x.shape[0]:\n",
        "            self.hidd = torch.zeros(x.size(0), self.W_hh.in_features, device=x.device)\n",
        "        else:\n",
        "            self.hidd = self.hidd.detach()  # Fix: Detach hidden state to stop gradient accumulation\n",
        "\n",
        "        self.hidd = torch.tanh(self.W_hh(self.hidd) + self.W_xh(x))\n",
        "        return self.hidd\n",
        "\n",
        "    def forward(self, inp):\n",
        "        seq_len, batch_size, _ = inp.shape\n",
        "        hidden_states = []\n",
        "\n",
        "        # Iterate over each time step\n",
        "        for t in range(seq_len):\n",
        "            hidden_state = self.step(inp[t])\n",
        "            hidden_states.append(hidden_state)\n",
        "\n",
        "        return torch.stack(hidden_states)\n",
        "\n",
        "\n",
        "\n",
        "\n",
        "class charRNN(torch.nn.Module):\n",
        "    def __init__(self,inps,hids,outs):\n",
        "      super(charRNN, self).__init__()\n",
        "      self.rNN = rNN(inps,hids)\n",
        "      self.hid = torch.nn.Linear(hids,outs)\n",
        "      self.softmax = torch.nn.LogSoftmax(dim=1)\n",
        "\n",
        "    def forward(self,inp):\n",
        "      hidd = self.rNN(inp)\n",
        "      out = self.hid(hidd[-1])\n",
        "      out = self.softmax(out)\n",
        "      return out\n"
      ],
      "metadata": {
        "id": "csCwUerlwgDQ"
      },
      "execution_count": null,
      "outputs": []
    },
    {
      "cell_type": "code",
      "source": [
        "alldata = NamesDataset(\"data/names\")\n",
        "print(f\"loaded {len(alldata)} items of data\")\n",
        "print(f\"example = {alldata[0]}\")"
      ],
      "metadata": {
        "colab": {
          "base_uri": "https://localhost:8080/"
        },
        "id": "e1xvw1V_Ythi",
        "outputId": "5fb53a58-8a9d-406e-cac4-788f8e357d24"
      },
      "execution_count": null,
      "outputs": [
        {
          "output_type": "stream",
          "name": "stdout",
          "text": [
            "loaded 20074 items of data\n",
            "example = (tensor([5]), tensor([[[0., 0., 0., 0., 0., 0., 0., 0., 0., 0., 0., 0., 0., 0., 0., 0., 0.,\n",
            "          0., 0., 0., 0., 0., 0., 0., 0., 0., 1., 0., 0., 0., 0., 0., 0., 0.,\n",
            "          0., 0., 0., 0., 0., 0., 0., 0., 0., 0., 0., 0., 0., 0., 0., 0., 0.,\n",
            "          0., 0., 0., 0., 0., 0.]],\n",
            "\n",
            "        [[0., 0., 0., 0., 0., 0., 0., 1., 0., 0., 0., 0., 0., 0., 0., 0., 0.,\n",
            "          0., 0., 0., 0., 0., 0., 0., 0., 0., 0., 0., 0., 0., 0., 0., 0., 0.,\n",
            "          0., 0., 0., 0., 0., 0., 0., 0., 0., 0., 0., 0., 0., 0., 0., 0., 0.,\n",
            "          0., 0., 0., 0., 0., 0.]],\n",
            "\n",
            "        [[0., 0., 0., 0., 0., 0., 0., 0., 0., 0., 0., 0., 0., 1., 0., 0., 0.,\n",
            "          0., 0., 0., 0., 0., 0., 0., 0., 0., 0., 0., 0., 0., 0., 0., 0., 0.,\n",
            "          0., 0., 0., 0., 0., 0., 0., 0., 0., 0., 0., 0., 0., 0., 0., 0., 0.,\n",
            "          0., 0., 0., 0., 0., 0.]]]), 'Korean', 'Ahn')\n"
          ]
        }
      ]
    },
    {
      "cell_type": "code",
      "source": [
        "train_set, test_set = torch.utils.data.random_split(alldata, [.85, .15], generator=torch.Generator(device='cpu').manual_seed(2024))\n",
        "\n",
        "print(f\"train examples = {len(train_set)}, validation examples = {len(test_set)}\")"
      ],
      "metadata": {
        "id": "1RuILU_0x7fh",
        "colab": {
          "base_uri": "https://localhost:8080/"
        },
        "outputId": "aa484634-5036-418b-bbc2-fb0bf45bfc0a"
      },
      "execution_count": null,
      "outputs": [
        {
          "output_type": "stream",
          "name": "stdout",
          "text": [
            "train examples = 17063, validation examples = 3011\n"
          ]
        }
      ]
    },
    {
      "cell_type": "code",
      "source": [
        "n_hidden = 128\n",
        "rnn = charRNN(n_letters, n_hidden, len(alldata.labels_uniq))\n",
        "print(rnn)"
      ],
      "metadata": {
        "colab": {
          "base_uri": "https://localhost:8080/"
        },
        "id": "qPU4UbhZYxFu",
        "outputId": "212a1cfd-3336-4875-8e28-34ed90ccf748"
      },
      "execution_count": null,
      "outputs": [
        {
          "output_type": "stream",
          "name": "stdout",
          "text": [
            "charRNN(\n",
            "  (rNN): rNN(\n",
            "    (W_hh): Linear(in_features=128, out_features=128, bias=False)\n",
            "    (W_xh): Linear(in_features=57, out_features=128, bias=False)\n",
            "  )\n",
            "  (hid): Linear(in_features=128, out_features=18, bias=True)\n",
            "  (softmax): LogSoftmax(dim=1)\n",
            ")\n"
          ]
        }
      ]
    },
    {
      "cell_type": "code",
      "source": [
        "def label_from_output(output, output_labels):\n",
        "    top_n, top_i = output.topk(1)\n",
        "    label_i = top_i[0].item()\n",
        "    return output_labels[label_i], label_i\n",
        "\n",
        "input = lineToTensor('Albert')\n",
        "output = rnn(input)\n",
        "print(label_from_output(output, alldata.labels_uniq))"
      ],
      "metadata": {
        "colab": {
          "base_uri": "https://localhost:8080/"
        },
        "id": "ULpVKEfPZN-C",
        "outputId": "23a9f539-07b7-4213-87cb-6b9e8552051e"
      },
      "execution_count": null,
      "outputs": [
        {
          "output_type": "stream",
          "name": "stdout",
          "text": [
            "('Portuguese', 10)\n"
          ]
        }
      ]
    },
    {
      "cell_type": "code",
      "source": [
        "import random\n",
        "import numpy as np\n",
        "\n",
        "def train(rnn, training_data, n_epoch = 10, n_batch_size = 64, report_every = 50, learning_rate = 0.2, criterion = torch.nn.NLLLoss()):\n",
        "    \"\"\"\n",
        "    Learn on a batch of training_data for a specified number of iterations and reporting thresholds\n",
        "    \"\"\"\n",
        "    # Keep track of losses for plotting\n",
        "    current_loss = 0\n",
        "    all_losses = []\n",
        "    rnn.train()\n",
        "    optimizer = torch.optim.SGD(rnn.parameters(), lr=learning_rate)\n",
        "\n",
        "    start = time.time()\n",
        "    print(f\"training on data set with n = {len(training_data)}\")\n",
        "\n",
        "    for iter in range(1, n_epoch + 1):\n",
        "        rnn.zero_grad() # clear the gradients\n",
        "\n",
        "        # create some minibatches\n",
        "        # we cannot use dataloaders because each of our names is a different length\n",
        "        batches = list(range(len(training_data)))\n",
        "        random.shuffle(batches)\n",
        "        batches = np.array_split(batches, len(batches) //n_batch_size )\n",
        "\n",
        "        for idx, batch in enumerate(batches):\n",
        "            batch_loss = 0\n",
        "            for i in batch: #for each example in this batch\n",
        "                (label_tensor, text_tensor, label, text) = training_data[i]\n",
        "                output = rnn.forward(text_tensor)\n",
        "                loss = criterion(output, label_tensor)\n",
        "                batch_loss += loss\n",
        "\n",
        "            # optimize parameters\n",
        "            batch_loss.backward()\n",
        "            nn.utils.clip_grad_norm_(rnn.parameters(), 3)\n",
        "            optimizer.step()\n",
        "            optimizer.zero_grad()\n",
        "\n",
        "            current_loss += batch_loss.item() / len(batch)\n",
        "\n",
        "        all_losses.append(current_loss / len(batches) )\n",
        "        if iter % report_every == 0:\n",
        "            print(f\"{iter} ({iter / n_epoch:.0%}): \\t average batch loss = {all_losses[-1]}\")\n",
        "        current_loss = 0\n",
        "\n",
        "    return all_losses"
      ],
      "metadata": {
        "id": "CCxf796hZOwt"
      },
      "execution_count": null,
      "outputs": []
    },
    {
      "cell_type": "code",
      "source": [
        "start = time.time()\n",
        "all_losses = train(rnn, train_set, n_epoch=27, learning_rate=0.15, report_every=5)\n",
        "end = time.time()\n",
        "print(f\"training took {end-start}s\")"
      ],
      "metadata": {
        "colab": {
          "base_uri": "https://localhost:8080/"
        },
        "id": "MCZuk3JqZZhq",
        "outputId": "950a6801-10dc-4df4-a1e8-bd09cda18e8d"
      },
      "execution_count": null,
      "outputs": [
        {
          "output_type": "stream",
          "name": "stdout",
          "text": [
            "training on data set with n = 17063\n",
            "5 (19%): \t average batch loss = 0.9813510914183958\n",
            "10 (37%): \t average batch loss = 0.9199360845301315\n",
            "15 (56%): \t average batch loss = 0.88409040753658\n",
            "20 (74%): \t average batch loss = 0.8641242217128162\n",
            "25 (93%): \t average batch loss = 0.8536891624598644\n",
            "training took 515.7440867424011s\n"
          ]
        }
      ]
    },
    {
      "cell_type": "code",
      "source": [
        "plt.figure()\n",
        "plt.plot(all_losses)\n",
        "plt.show()"
      ],
      "metadata": {
        "colab": {
          "base_uri": "https://localhost:8080/",
          "height": 430
        },
        "id": "Vqu3auAbgh86",
        "outputId": "acc3d4db-d234-434f-be3b-124445cae5d5"
      },
      "execution_count": null,
      "outputs": [
        {
          "output_type": "display_data",
          "data": {
            "text/plain": [
              "<Figure size 640x480 with 1 Axes>"
            ],
            "image/png": "[encoded data removed]"
          },
          "metadata": {}
        }
      ]
    },
    {
      "cell_type": "code",
      "source": [
        "def evaluate(rnn, testing_data, classes):\n",
        "    confusion = torch.zeros(len(classes), len(classes))\n",
        "\n",
        "    rnn.eval() #set to eval mode\n",
        "    with torch.no_grad(): # do not record the gradients during eval phase\n",
        "        for i in range(len(testing_data)):\n",
        "            (label_tensor, text_tensor, label, text) = testing_data[i]\n",
        "            output = rnn(text_tensor)\n",
        "            guess, guess_i = label_from_output(output, classes)\n",
        "            label_i = classes.index(label)\n",
        "            confusion[label_i][guess_i] += 1\n",
        "\n",
        "    # Normalize by dividing every row by its sum\n",
        "    for i in range(len(classes)):\n",
        "        denom = confusion[i].sum()\n",
        "        if denom > 0:\n",
        "            confusion[i] = confusion[i] / denom\n",
        "\n",
        "    # Set up plot\n",
        "    fig = plt.figure()\n",
        "    ax = fig.add_subplot(111)\n",
        "    cax = ax.matshow(confusion.cpu().numpy()) #numpy uses cpu here so we need to use a cpu version\n",
        "    fig.colorbar(cax)\n",
        "\n",
        "    # Set up axes\n",
        "    ax.set_xticks(np.arange(len(classes)), labels=classes, rotation=90)\n",
        "    ax.set_yticks(np.arange(len(classes)), labels=classes)\n",
        "\n",
        "    # Force label at every tick\n",
        "    ax.xaxis.set_major_locator(ticker.MultipleLocator(1))\n",
        "    ax.yaxis.set_major_locator(ticker.MultipleLocator(1))\n",
        "\n",
        "    # sphinx_gallery_thumbnail_number = 2\n",
        "    plt.show()\n",
        "\n",
        "\n",
        "\n",
        "evaluate(rnn, test_set, classes=alldata.labels_uniq)"
      ],
      "metadata": {
        "colab": {
          "base_uri": "https://localhost:8080/",
          "height": 506
        },
        "id": "edq0ifodg3cC",
        "outputId": "6abc6b33-33d8-4a14-8898-dcd7898680ad"
      },
      "execution_count": null,
      "outputs": [
        {
          "output_type": "display_data",
          "data": {
            "text/plain": [
              "<Figure size 640x480 with 2 Axes>"
            ],
            "image/png": "[encoded data removed]"
          },
          "metadata": {}
        }
      ]
    }
  ]
}