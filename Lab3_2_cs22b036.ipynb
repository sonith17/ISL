{
  "nbformat": 4,
  "nbformat_minor": 0,
  "metadata": {
    "colab": {
      "provenance": [],
      "gpuType": "T4"
    },
    "kernelspec": {
      "name": "python3",
      "display_name": "Python 3"
    },
    "language_info": {
      "name": "python"
    },
    "accelerator": "GPU"
  },
  "cells": [
    {
      "cell_type": "code",
      "execution_count": null,
      "metadata": {
        "id": "zssb5-G-TUwq"
      },
      "outputs": [],
      "source": [
        "from torch.utils.data import DataLoader,Dataset\n",
        "import torch\n",
        "import torchvision.transforms as transforms\n",
        "from torchvision import datasets\n",
        "import torchvision.models as models\n",
        "import kagglehub\n",
        "from tqdm import tqdm"
      ]
    },
    {
      "cell_type": "code",
      "source": [
        "device = torch.device(\"cuda\" if torch.cuda.is_available() else \"cpu\")\n",
        "print(device)"
      ],
      "metadata": {
        "colab": {
          "base_uri": "https://localhost:8080/"
        },
        "id": "Z7ILWXJijV37",
        "outputId": "a0459d0c-9873-402f-af7a-8a806f0665f9"
      },
      "execution_count": null,
      "outputs": [
        {
          "output_type": "stream",
          "name": "stdout",
          "text": [
            "cuda\n"
          ]
        }
      ]
    },
    {
      "cell_type": "code",
      "source": [
        "kagglehub.dataset_download(\"dimensi0n/imagenet-256\")"
      ],
      "metadata": {
        "colab": {
          "base_uri": "https://localhost:8080/",
          "height": 35
        },
        "id": "EBgavMoYxl3F",
        "outputId": "c7bc6082-d671-4fe3-eb0c-c1f8accc7bf2"
      },
      "execution_count": null,
      "outputs": [
        {
          "output_type": "execute_result",
          "data": {
            "text/plain": [
              "'/root/.cache/kagglehub/datasets/dimensi0n/imagenet-256/versions/1'"
            ],
            "application/vnd.google.colaboratory.intrinsic+json": {
              "type": "string"
            }
          },
          "metadata": {},
          "execution_count": 3
        }
      ]
    },
    {
      "cell_type": "code",
      "source": [
        "transform = transforms.Compose([\n",
        "    transforms.Grayscale(num_output_channels=3),\n",
        "    transforms.Resize((224, 224)),\n",
        "    transforms.ToTensor(),\n",
        "    transforms.Normalize((0.5, 0.5, 0.5), (0.5, 0.5, 0.5))\n",
        "])"
      ],
      "metadata": {
        "id": "uJW9KRI_XfUg"
      },
      "execution_count": null,
      "outputs": []
    },
    {
      "cell_type": "code",
      "source": [
        "data  = datasets.ImageFolder(root='/root/.cache/kagglehub/datasets/dimensi0n/imagenet-256/versions/1',transform=transform)\n",
        "loader = DataLoader(data,batch_size=256,shuffle=True)"
      ],
      "metadata": {
        "id": "MiWnaylTxqVw"
      },
      "execution_count": null,
      "outputs": []
    },
    {
      "cell_type": "code",
      "source": [
        "len(data),len(data.classes),data[0][0].shape"
      ],
      "metadata": {
        "colab": {
          "base_uri": "https://localhost:8080/"
        },
        "id": "zRb1fjdDzONM",
        "outputId": "c4fbb28d-edc0-42f6-d22d-7e2e2f45504a"
      },
      "execution_count": null,
      "outputs": [
        {
          "output_type": "execute_result",
          "data": {
            "text/plain": [
              "(539826, 1000, torch.Size([3, 224, 224]))"
            ]
          },
          "metadata": {},
          "execution_count": 6
        }
      ]
    },
    {
      "cell_type": "code",
      "source": [
        "resnet18 = models.resnet18(pretrained=True)\n",
        "resnet18 = resnet18.to(device)"
      ],
      "metadata": {
        "colab": {
          "base_uri": "https://localhost:8080/"
        },
        "id": "bqI6cj9xTnNN",
        "outputId": "77d6509b-ae20-456a-8266-87667ca97472"
      },
      "execution_count": null,
      "outputs": [
        {
          "output_type": "stream",
          "name": "stderr",
          "text": [
            "/usr/local/lib/python3.11/dist-packages/torchvision/models/_utils.py:208: UserWarning: The parameter 'pretrained' is deprecated since 0.13 and may be removed in the future, please use 'weights' instead.\n",
            "  warnings.warn(\n",
            "/usr/local/lib/python3.11/dist-packages/torchvision/models/_utils.py:223: UserWarning: Arguments other than a weight enum or `None` for 'weights' are deprecated since 0.13 and may be removed in the future. The current behavior is equivalent to passing `weights=ResNet18_Weights.IMAGENET1K_V1`. You can also use `weights=ResNet18_Weights.DEFAULT` to get the most up-to-date weights.\n",
            "  warnings.warn(msg)\n"
          ]
        }
      ]
    },
    {
      "cell_type": "code",
      "source": [
        "correct,total = 0,0\n",
        "\n",
        "with torch.no_grad():\n",
        "    for i,(images,labels) in enumerate(tqdm(loader,desc=\"Inference Progress\")):\n",
        "        images = images.to(device)\n",
        "        labels = labels.to(device)\n",
        "        output = resnet18(images)\n",
        "        #print(labels,len(labels))\n",
        "        _, preds = torch.max(output, 1)\n",
        "        #print('-----',len(preds))\n",
        "        correct += (preds == labels).sum().item()\n",
        "        total += labels.size(0)\n",
        "\n",
        "        #percentage = (i + 1) / len(loader) * 100\n",
        "        #print(f\"Processing: {percentage:.2f}% completed\")"
      ],
      "metadata": {
        "id": "EKwwpVWpUuDE",
        "colab": {
          "base_uri": "https://localhost:8080/"
        },
        "outputId": "fd119e50-25ec-45fc-8762-b6850f467ba8"
      },
      "execution_count": null,
      "outputs": [
        {
          "output_type": "stream",
          "name": "stderr",
          "text": [
            "Inference Progress: 100%|██████████| 2109/2109 [47:21<00:00,  1.35s/it]\n"
          ]
        }
      ]
    },
    {
      "cell_type": "code",
      "source": [
        "print(f\"Accuracy: {100 * correct / total}%\")"
      ],
      "metadata": {
        "id": "0kDPhKkg40kG",
        "colab": {
          "base_uri": "https://localhost:8080/"
        },
        "outputId": "73e768ba-09e7-455f-ad7d-bc596dde709c"
      },
      "execution_count": null,
      "outputs": [
        {
          "output_type": "stream",
          "name": "stdout",
          "text": [
            "Accuracy: 0.13115337164197352%\n"
          ]
        }
      ]
    },
    {
      "cell_type": "code",
      "source": [
        "correct,total"
      ],
      "metadata": {
        "id": "0nzxBJQyIT8-",
        "colab": {
          "base_uri": "https://localhost:8080/"
        },
        "outputId": "55ca06cd-525f-45e2-a9ad-d2b233d6b7d4"
      },
      "execution_count": null,
      "outputs": [
        {
          "output_type": "execute_result",
          "data": {
            "text/plain": [
              "(708, 539826)"
            ]
          },
          "metadata": {},
          "execution_count": 10
        }
      ]
    }
  ]
}