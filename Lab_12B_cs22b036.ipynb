{
  "nbformat": 4,
  "nbformat_minor": 0,
  "metadata": {
    "colab": {
      "provenance": []
    },
    "kernelspec": {
      "name": "python3",
      "display_name": "Python 3"
    }
  },
  "cells": [
    {
      "cell_type": "markdown",
      "metadata": {
        "id": "-ADWvu7NKN2r"
      },
      "source": [
        "##Reinforcement Learning\n",
        "The next and final topic in this course covers *Reinforcement Learning*. This technique is different than many of the other machine learning techniques we have seen earlier and has many applications in training agents (an AI) to interact with enviornments like games. Rather than feeding our machine learning model millions of examples we let our model come up with its own examples by exploring an enviornemt. The concept is simple. Humans learn by exploring and learning from mistakes and past experiences so let's have our computer do the same.\n",
        "\n"
      ]
    },
    {
      "cell_type": "markdown",
      "metadata": {
        "id": "rwIl0sJgmu4D"
      },
      "source": [
        "##Q-Learning Example\n",
        "For this example we will use the Q-Learning algorithm to train an agent to navigate a popular enviornment from the [Open AI Gym](https://gym.openai.com/). The Open AI Gym was developed so programmers could practice machine learning using unique enviornments. Intersting fact, Elon Musk is one of the founders of OpenAI!\n",
        "\n",
        "Let's start by looking at what Open AI Gym is."
      ]
    },
    {
      "source": [
        "!pip install --upgrade gym"
      ],
      "cell_type": "code",
      "metadata": {
        "colab": {
          "base_uri": "https://localhost:8080/",
          "height": 0
        },
        "id": "k75RlpUNPgMh",
        "outputId": "fc5b3fb2-855e-4840-9690-7ea7c5cc4f26"
      },
      "execution_count": 1,
      "outputs": [
        {
          "output_type": "stream",
          "name": "stdout",
          "text": [
            "Requirement already satisfied: gym in /usr/local/lib/python3.11/dist-packages (0.25.2)\n",
            "Collecting gym\n",
            "  Downloading gym-0.26.2.tar.gz (721 kB)\n",
            "\u001b[2K     \u001b[90m━━━━━━━━━━━━━━━━━━━━━━━━━━━━━━━━━━━━━━\u001b[0m \u001b[32m721.7/721.7 kB\u001b[0m \u001b[31m10.2 MB/s\u001b[0m eta \u001b[36m0:00:00\u001b[0m\n",
            "\u001b[?25h  Installing build dependencies ... \u001b[?25l\u001b[?25hdone\n",
            "  Getting requirements to build wheel ... \u001b[?25l\u001b[?25hdone\n",
            "  Preparing metadata (pyproject.toml) ... \u001b[?25l\u001b[?25hdone\n",
            "Requirement already satisfied: numpy>=1.18.0 in /usr/local/lib/python3.11/dist-packages (from gym) (2.0.2)\n",
            "Requirement already satisfied: cloudpickle>=1.2.0 in /usr/local/lib/python3.11/dist-packages (from gym) (3.1.1)\n",
            "Requirement already satisfied: gym_notices>=0.0.4 in /usr/local/lib/python3.11/dist-packages (from gym) (0.0.8)\n",
            "Building wheels for collected packages: gym\n",
            "  Building wheel for gym (pyproject.toml) ... \u001b[?25l\u001b[?25hdone\n",
            "  Created wheel for gym: filename=gym-0.26.2-py3-none-any.whl size=827729 sha256=170fe90701a9b20d4b81e39fe7e83e4e8534fca9397a153bd3c89e09bb1f5e90\n",
            "  Stored in directory: /root/.cache/pip/wheels/1c/77/9e/9af5470201a0b0543937933ee99ba884cd237d2faefe8f4d37\n",
            "Successfully built gym\n",
            "Installing collected packages: gym\n",
            "  Attempting uninstall: gym\n",
            "    Found existing installation: gym 0.25.2\n",
            "    Uninstalling gym-0.25.2:\n",
            "      Successfully uninstalled gym-0.25.2\n",
            "\u001b[31mERROR: pip's dependency resolver does not currently take into account all the packages that are installed. This behaviour is the source of the following dependency conflicts.\n",
            "dopamine-rl 4.1.2 requires gym<=0.25.2, but you have gym 0.26.2 which is incompatible.\u001b[0m\u001b[31m\n",
            "\u001b[0mSuccessfully installed gym-0.26.2\n"
          ]
        }
      ]
    },
    {
      "cell_type": "code",
      "metadata": {
        "id": "rSETF0zqokYr"
      },
      "source": [
        "import gym   # all you have to do to import and use open ai gym!"
      ],
      "execution_count": 2,
      "outputs": []
    },
    {
      "cell_type": "markdown",
      "metadata": {
        "id": "8cH3AmCzotO1"
      },
      "source": [
        "Once you import gym you can load an enviornment using the line ```gym.make(\"enviornment\")```."
      ]
    },
    {
      "cell_type": "code",
      "metadata": {
        "id": "UKN1ScBco3dp"
      },
      "source": [
        "env = gym.make('FrozenLake-v1',render_mode=\"rgb_array\")  # we are going to use the FrozenLake enviornment"
      ],
      "execution_count": 3,
      "outputs": []
    },
    {
      "cell_type": "markdown",
      "metadata": {
        "id": "3SvSlmVwo8cY"
      },
      "source": [
        "There are a few other commands that can be used to interact and get information about the enviornment."
      ]
    },
    {
      "cell_type": "code",
      "metadata": {
        "id": "FF3icIeapFct",
        "colab": {
          "base_uri": "https://localhost:8080/",
          "height": 0
        },
        "outputId": "9e2eee3a-09c2-4e0d-c636-40e35fba5df6"
      },
      "source": [
        "print(env.observation_space.n)   # get number of states\n",
        "print(env.action_space.n)   # get number of actions"
      ],
      "execution_count": 4,
      "outputs": [
        {
          "output_type": "stream",
          "name": "stdout",
          "text": [
            "16\n",
            "4\n"
          ]
        }
      ]
    },
    {
      "cell_type": "code",
      "metadata": {
        "id": "lc9cwp03pQVn",
        "colab": {
          "base_uri": "https://localhost:8080/",
          "height": 0
        },
        "outputId": "4812cd19-5a2e-439f-efb3-cb666357caf1"
      },
      "source": [
        "env.reset()  # reset enviornment to default state"
      ],
      "execution_count": 5,
      "outputs": [
        {
          "output_type": "execute_result",
          "data": {
            "text/plain": [
              "(0, {'prob': 1})"
            ]
          },
          "metadata": {},
          "execution_count": 5
        }
      ]
    },
    {
      "cell_type": "code",
      "metadata": {
        "id": "sngyjPDapUt7"
      },
      "source": [
        "action = env.action_space.sample()  # get a random action"
      ],
      "execution_count": 6,
      "outputs": []
    },
    {
      "cell_type": "code",
      "metadata": {
        "id": "HeEfi8xypXya"
      },
      "source": [
        "new_state, reward,terminated, done, info = env.step(action)  # take action, notice it returns information about the action"
      ],
      "execution_count": 8,
      "outputs": []
    },
    {
      "cell_type": "code",
      "metadata": {
        "id": "_1W3D81ipdaS",
        "colab": {
          "base_uri": "https://localhost:8080/",
          "height": 297
        },
        "outputId": "d597ddba-dde8-41fc-d620-a2cacac32cf1"
      },
      "source": [
        "env.render()   # render the GUI for the enviornment"
      ],
      "execution_count": 9,
      "outputs": [
        {
          "output_type": "execute_result",
          "data": {
            "text/plain": [
              "array([[[180, 200, 230],\n",
              "        [180, 200, 230],\n",
              "        [180, 200, 230],\n",
              "        ...,\n",
              "        [180, 200, 230],\n",
              "        [180, 200, 230],\n",
              "        [180, 200, 230]],\n",
              "\n",
              "       [[180, 200, 230],\n",
              "        [204, 230, 255],\n",
              "        [204, 230, 255],\n",
              "        ...,\n",
              "        [204, 230, 255],\n",
              "        [204, 230, 255],\n",
              "        [180, 200, 230]],\n",
              "\n",
              "       [[180, 200, 230],\n",
              "        [235, 245, 249],\n",
              "        [204, 230, 255],\n",
              "        ...,\n",
              "        [204, 230, 255],\n",
              "        [204, 230, 255],\n",
              "        [180, 200, 230]],\n",
              "\n",
              "       ...,\n",
              "\n",
              "       [[180, 200, 230],\n",
              "        [235, 245, 249],\n",
              "        [235, 245, 249],\n",
              "        ...,\n",
              "        [204, 230, 255],\n",
              "        [235, 245, 249],\n",
              "        [180, 200, 230]],\n",
              "\n",
              "       [[180, 200, 230],\n",
              "        [235, 245, 249],\n",
              "        [235, 245, 249],\n",
              "        ...,\n",
              "        [204, 230, 255],\n",
              "        [204, 230, 255],\n",
              "        [180, 200, 230]],\n",
              "\n",
              "       [[180, 200, 230],\n",
              "        [180, 200, 230],\n",
              "        [180, 200, 230],\n",
              "        ...,\n",
              "        [180, 200, 230],\n",
              "        [180, 200, 230],\n",
              "        [180, 200, 230]]], dtype=uint8)"
            ],
            "text/html": [
              "<style>\n",
              "      .ndarray_repr .ndarray_raw_data {\n",
              "        display: none;\n",
              "      }\n",
              "      .ndarray_repr.show_array .ndarray_raw_data {\n",
              "        display: block;\n",
              "      }\n",
              "      .ndarray_repr.show_array .ndarray_image_preview {\n",
              "        display: none;\n",
              "      }\n",
              "      </style>\n",
              "      <div id=\"id-fdf1aac3-c762-43e7-94c3-d298f118751f\" class=\"ndarray_repr\"><pre>ndarray (256, 256, 3) <button style=\"padding: 0 2px;\">show data</button></pre><img src=\"data:image/png;base64,iVBORw0KGgoAAAANSUhEUgAAAQAAAAEACAIAAADTED8xAAAeIElEQVR4nO2df4xd1XHHv0bPD7Nm8do1PxxVBiOroRRbLaagGEQXEP4jUYoEyR9tUamqllaKVJREafMPCAmpahKpxJGKWidCsgTpHwUkgrECRNEKXMehtRvZwSXSCgur8m7AgMF0sddb0z/m3ffm3jkzd+57b3/5zOcPa/fcc86dvfKZmTNnzjkr9hw4gSDIlRaAqzZusCtdvWa2+/P6kfbQhTg5M1speftD11umj08h5B+YnOVvAbh6zazdoPx0Fr4/g4tl1+dPqRX/ZLV/TMifJORPvb3KRbVyBMEFTKtpg2I8pUcnjT8qkaNWmiqNclu11bSzO0bI7yEf+cMCBFnTsQCNfL5uHWolx+XBqWqfBI1LPsoJ2YPm/2k6IOQP+fuTPyxAkDUtsCEiZ9CENqZ5OW8lw172jN729qRfWBnHIX/I37f8YQGCrClFgZLjG6kxbdfn5XIs8joa9pj2vDfkD/k98ocFCLImsQ6gjS17rm2Xy7Gu1dHweH52ecgf8suSsABB1rTABlPTMWRz303j3Z+f/c8J6D4f4ffwKvXnSX5NqpC/Un9Zyx8WIMiazjoAjQa5AqdFYeVqHEHlf3X7DgBrv9krJ2vwL6++XGlF9VNx4vrR3C0fuvy8XMtUCfkvDPnDAgRZ04kCFetk9Fs6CsvRRpXU/QSV0FOaD5T76b2FRnPTDPJhyd9vJCTkX67yhwUIsqZjAfy+lxZ/JS//158fA7AWp5Ivo6fafEBDZpBLBpe/KZoXKwn5l7L8YQGCrFmx58CJ7qbmbebmZjl2aWz9/RfHUWh3P1fuPYViPqD1XEtlU3Z/8lPUoj89ZPdcS8iPxZY/LECQNaVcIB7H1Wbc2rz+az+aAfCPfzhS+0qq+TR7s+yZZHCO4y79yV/EDYA6HaYR8hPLUf6wAEHWlOYAEjki+TijuP6fzPXG2eeu+Lj2lT9759Luz0+3ZlFeGZBvMcZx7cFMtvy2hvD4pvaKZu1bQn5DtoWRPyxAkDUr9hw4ccuW36BftLEixyLP9Hz4zpMA3nr5M90SzQ5w3X/tjhMAHvvp+m6JlinEqXh7Pz/yHoA+5PfrIa03jZBfe+PSlD8sQJA1pSiQPbbkeHr28T8H8IsXvo1Co28avwIAsCrZw12YA3Bs4p1KD/d99UmUV+yK3JLq7F6LQfUnP2/l0UNazXJ5yJ9macofFiDImlI2qEQbteSv33f7DmqNYiZA2r2wA1W47u94/z99Ej3vn55oGX8WTeWX+E+z0VoVEY+Qv8fSlz8sQJA1NadD26OHNDdBawLcDmiQ7udtB8kDsfFEkTU0j1Y7s3I+CPk95YPIHxYgyJqOBaAsDsKfjyFH3sSbNzjaTSfbNt09xBmW/B6ftam/G/L7JVl4+cMCBFmTuB/g4FQbTcYx3wv2DM50y6/beqr785uHx3oNfnes2yq1P7iH3FeqjeZB5OcM4k2G/MTykj8sQJA1pSgQj7ySV6eNY5mFt+/uewHc9spzKOt+gkrIDlDN+/Y+afSsYY/mQeT34GkV8hPLRf6wAEHWlE6Gk2jjWI7C735nL4CvHZ8B8LkD6d5+9s4MgO/+Ym+3pL/dnJW7pYYivwdP1CLk5yx9+cMCBFmTyAaVY0i7tY+gNd3O7jC0UeT9024vgu8ae+3ENPRdYJ6cEH6awODy++HZhTzfMORfvvKHBQiyppQNas+gNe9q4pUXAWz/m28AePp73+mWU8m6S+YAPP2tx7vlf/TwNwA88/yLAL50zxe65dpeHk+++CDyc+R9t/7Mk5B/OcofFiDImhV7Dpz4wi2lWTqNnqY7NQ/ve7778/uftFDo/tF2OuGU634PyV2kdCrBUOTXdM+wMiVDfpvFkj8sQJA1xi2RiRFjsPW2e6B7bNI7bHpKMO+n+5ZpvWZT+bnWkX/FIFmK/GnIr7FY8ocFCLJG3REmR4xnps/bSmxNQKdDyhumtJ5tSUL+lIQhf1X+sABB1nTuCbZjqzKvWj7lJVo/Hr/Qf7tTtzzkD/n7lj8sQJA1pTmAlm/tmV9LZG/JmTjqR3O9htDe6GkV8ucsf1iAIGvUWyK10ezfy+PP2bCzNaRXJwn5bTm18pA/LECQNYk5AOEZf/5Ww4KPZnu9MOSfDy48+cMCBFmjrgR7VuxsPN6enNf7swjtmiF/yG9DNVfsOXBiQEGDYPkSLlCQNS2Y11wSdoLR4PR3uAUc13QSIb9NzvK3AFy9ZrYuz86bX6GJ5V8L9K/zdelbfjt6vfTlt1n68i+F7x8uUJA1NTfESOz8Cu3MFv7UQ7mt2iq5I4mwYwLFefZtFHnkBbyk17Zcp/oWyeDya8T3l2+R+OUPCxBkTeJ+gKY7OKVe0U4Csz0/jub/aTpMyu/LDBkU7c7aweX3vDe+/+DfPyxAkDWd06HpFzmDJjyjmbeSYS97Rm97q9KvrYxjQ36Pvrl350RtHclzD40ny1NvrPG84/vX1pEM6/uHBQiyphQFSo5v1M217b2eUpfwOhqenEHtvbK+RGqdkRu3G/Vbc3MAZmYAYG7y9WQPhNRMdgYlJ76/xvx9/7AAQdYYJ8NVsWMFdrnUGbb+8Ehl15e+YFOt06kzRv20UcSlZ0durtRZOTcL4MPZduUtmjayT72M71+qM8/fPyxAkDWdc4Hol/5279t4fEetprPnivz81nKCawWP1uHMnKpKO7J+RNQaATAGoNBP5K3a2kiTXyO+f6eHoX7/sABB1pRuiZQriFoU2b/n3z4pgErs2G2tr1yRn+PXPVu3nwcwNXXOqFNwFsC7xy5OP2y1AIxtbKPQRh8d7kUtuB7S5I/vX8cwv39YgCBrSneEFc5VOorMaRrB0J4WJXYmiRUz4f3wnEFb91y+6WylZIpprw0bVgLYsX4VgJdPnkFKM8keqNXh/Reh67m2WgAu25rWQ9yVje+/WN8/LECQNerJcJ59OrKmH8+ef0JmwEu49+nXPaQzNDTdI1tRHfr38k29OqSN5lqtriQzh/Z3W2n5NkR8/4X5/mEBgqxpoTN8uQ9aRdM9XDc01UNafW0nUdM8cq57ZIThgS2jlfqavtFqkoe6+8jpylPuv2L7GRR6SNL9i+L7Y/G+f1iAIGtKuUA8Dq1FDDQ9RBGAbTUHZKSRPTc95YuQ2SaFx9nzGqVGIbjuKWkRBal7eM/8KXmlatyaEd+fWMjvHxYgyJpENuggGoVHAzw3fWunGPR32iNB3iePNqw7vQrAji1VjcL1BI8tSN3jiUho/mgRnTgL4O1D9fLH91/I7x8WIMiazslw9Isc69Ir5f6i52YOeaKL51x5+Rb+tFt/utfc0lI3baqWSN2jeZxUk+rwmlRO2oXrIf4z11j/+0HV9716zex08QOVxPeXzPf3DwsQZE1pDmDvWLXPhPF4ilrNcnla29kycGSWCOH3OLWa8mmpByV3hXo4+i4APPLoOAB8kJY8vr9dUz4t9dDX9w8LEGRNKRtU4j9N0n+ajdaqiHhoGYv909TjlDWlXvHEs6nOE68CQLsFAHedBYBLRXwmvr9dc/6+f1iAIGtqTof2RJE1NI9WO7NyWEjNwfF7nHa2idaDLJ+dGwXwwq0AcM0aADg5A6T2T0ni+8/39w8LEGRNxwJwbeRffbTPD/O3stv69dP6O8cBAGeg6xUeVyakN0l1djuyUzTdQ1DsmbzP92Z6/5KfvW0DXjzeqRnfn7OQ3z8sQJA1ifsBDk51xkcfDOJNavqs6Xk1k2+sArB63TkU2oV7ov4INKFFG6R3K9l8/RkAk0erb5HfNr4/sfDfPyxAkDWlKBCPHJNXqukh/47Spq1sL1bTRqRBd21pA3jwSK++9Dg5XIvItUOtpgbPPZSQVLu29P4K+R3i+xML+f3DAgRZUzoZTqLpof58TU/Uwr9+yY+klP1IfaBFpjWdodWXrWRMg7fSPFFbfiK+/3x//7AAQdYkskHtrPRBkOdaaruQONoJBZo8l6wE6k6Z1PYW8biER1dpMQobTf74/gv//cMCBFlTyga1IwBNsws1PeE517LpCQX8bMqd1wHAg0dGUfh/pDl2KzqJe5AeraOtSvpjGpr88f0X/vuHBQiyJnFLJO0JanoWgKZ7hhWvME4wPjkzK+uTJ0pz/9Vr63WPxD6pxs5z1LQdR37h+P6chfn+YQGCrDFuiayOeBuudexzBzQ8J9BXIhXT5YYUL6eYCXmiD70JFFmBq9dW80y0qIK9g6lG94i1T9KCtAZJVORP/qXx/Yn5/v5hAYKsUXeEyRHviVTwthJbk1EMQZ5Co/Ws3VLo10NS3zTVPTK+IXXPaXYGAd93a3/J+P4L8/3DAgRZ07kn2I4Na/dVSZ1UF2Ou92v9t1NpmS1cDxE7ARR66PzHowA+OQf49pvy0+gJbY1T6h6KhOy6HRV5KlmZ8f27LPz3DwsQZE1pDqDli3viAxLt3iuZc1KnjZrtSOJ339Jbtm1oo9BDBPdKCfJNNe3iiSvLfEPygIvcydoO4vsvwvcPCxBkjXpLpP8ucg1/zonnlOOC+mwZGQunt5Aeop/33dFGEamgvUKl04M/FV2vMF7bgUeaiSIeUv27Kvn0iO+/eN8/LECQNYk5ANF07m+3GhZcG2n59BpSd5KGeMmMfNvwv13L45doeZrx/Rf++4cFCLJGXQn2n0ts99A0w8SfBdk0X5JL5a+5WPLH918Y+VfsOXDC2SAILjzCBQqypgXgqo01x/DZCVKD09/hHACmj08h5B+YnOXv3BJZlyfozQ/RxPKvZfrXKbuE/EmWvvz26sfCyB8uUJA1NTfESOz8EO3MGf7UQ7mt2iq5o8om5PcwuPx2TKaI0LdRvcmYl/TaytuO+VskfvnDAgRZk7gfoOkOVKlXtJPMbM+Po/l/mg4L+Zea/L7MokHR7jz2yx8WIMiazunQ9Iv/dEhZzlvJsJc9o7e9VenXVsZxyL9k5ffo+3t3TtTWkTz30HiyPPVGa+YTFiDImsTJcNJPsufa9l5VqUt4HQ1PzqNnj2zIv/Dyy/oSqfVHbtxu1G/NzQGYmQGAucnXkz0Q0jLYGaxhAYKsMU6Gq2LHCuxyqTNs/eGRyp8xr70x5Pe8V3tq15e+eFOt36kzRv20UawLzI7cXKmzcm4WwIez7cpbNGvAz1kKCxBkTedcIPqlv9MHbDy+o1bT2XPI73kLFkp+uQ+La2WP1ufMnKpKO7J+RNQaATAGoLAPNFuwrUHsCQ6C8i2RcgVRiyJru3VkuZapwkvs2G2trxzyLyn5OX7dv3X7edTdLFZwFsC7xy5OP2y1AIxtbKOwBh8d7kWNuB2IOUAQlO8IK5yrdBSZ0zSCoT0tSuxMkrS2k/2E/IsrP8/ZtHX/5ZvOVkqmmPXg50LT2aDSMsgeqNXh/RehO3NotQBctjVtB+hrhwUIskY9GU7zHZvGjzU0L1YiM+A9vYX8NsOVn3v/ft1v3xGm6X7ZiurQv5dv6tUhazDXanUlmTm0v9sqokBBgBY6w5f7oFU03cN1Q1M9pNXXdhIZeYUhvyGPxhDlT8J1v4zwyBveNX2v1aQZgnbDQOc+ge1nUNgBSdwSGQTlXCAeh9YiBpoeogjAtpoDMtLInpue8kWE/Isrv8z2KTz+ntcuNTph3woskbqf98yf0qxAWzcICxBkTSIbdBCNwqMBnpvK5W4jXt6fHgr5icWSn7x/Hu1Zd3oVgB1bqhpd3glJSN3viQhp84EiOnQWwNuHqtKGBQiypnMyHP2inbDOdQn3Fz03i8gTXTzn4su38Kfd+tPlDkP+RZH/5MwsP8NHctOmaol9H7CsSXV4TSon7c7tAP+ZW4zSDTQA/V1xLlCQO6U5gOeGD4nfU9RqlsvT2s6WgfejEfLPt/yEzNIh/B6/VlM+LfWg5A5RD0ffBYBHHh0HAHZ3fFiAIGtK2aASz4gn/KfZaK2KiIeWsWgR8i+u/DZNPX5ZU+p1z3oC1XniVQBotwDgrrMAcGnsCQ4CouZ0aE8UWUPzaLUzK+eDkN9TPlz5pebm+D1+O9tH60GWz86NAnjhVgC4Zg0A0K3xFGELCxBkTccC8BVE/+qjtie1aSu7rUc/hfy2DB55BpG/U/POcQDAGeh6ncf1CenNU53djuwgTfcTFPsn7/+9md6/NM/ZtgEvHg8LEORN4n6Ag1Od8dEHg3iTmj7znFcT8tv999fWLz9n8o1VAFavO4dCu/OZgH8FgNCiPXJ2Idl8/RkAk0erb+HfNixAkDWlKBCPHJNXqukh/47Spq1sL9bWRiG/zfzJTxZs15Y2gAeP9OpLj5/Dtbhcu9VqavDcTwlJtWtL76+IdYAgKJ8MJ9H0UH++pidq4V+/5EdShvweFlJ+qY+1lQFNZ2v1ZSsZU+KttJlAnAoRBKlsUDsrfRB4dqG9C4mjnVAga4b8iys/cclKoO6UT21vF48LeWyFFiOy4fKHBQiyppQNakcAmmYXanpC81+lNuJ92m8P+fm7eP2FlJ92n+28DgAePDKKwv8mzb1bsQncg/dofW1V2B9T4oQFCLImcUsk7QlqehaApnuGFa+oO8GYtwr5F1T+kzOzsj7NBCj2snptve6X2CcF2XmmmrXhxMlwQWDdElkd8TZc69jnDmjYuip5TsG01U/I32Ne5e82pPUKilnRTOChN4EiK3P12mqejxbVsXeQ1eh+sfZMVojWgAkuf1iAIGvUHWFyxHsiFbytxNZkFEOQp9BoPduShPwpCedFfr4kjCZ2QOr7prpfxpek7j/NzoDg+55jJTgIinuC7diwdl+V1El1MeZ6v9Z/O1W3PORfXPm78DVmnr+0E0BhB85/PArgk3OAb78vvw2A0NaYpe6nSNSu21GRJ7JBg6BDaQ6g5Yt74gMS2VsykoB6bVSv4bQ3elqF/MOSn7+XR6W2bWijsAMEnxUQNDfQtLsnri/zPWkGUuSupluFBQiyRr0lUtNG/r1I/pwTzynHBekYSMhvy6mVD0t+XlOuRdBbyA7Qz/vuaKOIFNFerdLpzZ+KrlcYr+3AI/1EEY+q/l18P0NYgCBrEnMAounc3241LLg28pxzLwn5B8GW33O6NZeQNPRL5sqDDf/btX0UktgPEAQd1JVg/7nEdg9NM0z8WZB2zZB/ceW3pfLXnG/5V+w5cMLZIAguPMIFCrKmBeCqjTXH8NkJUoPT3+EcAKaPTyHkH5ic5e/cElmXJ5jOD7Gj1/7ohBaZdv4xfctvE/Kn3p5gWcsfLlCQNWoUyJ5TFxHWNqo30fKSXlt5Wy1/i6Q84tW4QXJHlY2d36KdmcOfegj5NZaa/GEBgqxJ3A+gnVnAnw4L7c5azf/TdEAjn7VbR76L0E5is2c+nJB/ucgfFiDIms7p0PRLHxEAAPfunOjjxc89NJ4sT72xxvMz5Nf7rJbzVjJsZ0ckbG9V+rUVPRTyL6L8YQGCrEmeDAfUzbil1h+5cbv1mrk5ADMzADA3+XqyB0JaBjsDkZPUT0Yrrb62E7e/yLTW1rPHN+Sfb/nDAgRZo64DSL+tqdbv1Bmjftoo1gVmR26u1Fk5Nwvgw9l25S2aNbBPvbT3yNolWrnUVVodDf9O35B/IeUPCxBkTedcIPqFxoTcR8O1skfrc2ZOVUfqyPoRUWsEwBiAwj7QbMG2Bl2xK/Jr9JeG5fF9tZrOnrOV/5l7f69S8qXn/qtWKl4ycf8t3Z/Hn/q58S5JzAGCoHxL5CC6f+v286i7GargLIB3j12sSNQCMLaxjcIafHS4FzXidqA7yivye6LI2m4jWa5lqvASe+2i1lfOSv57Pv+XAL667jCAu/9ibaVPsgmPv781+UaC2hK8h1fuv6Xb9vm933fKHxYgyJrSHWE8Z9PW/ZdvOlspmWLWg5/rS2c7Sssge6BWh/dfhO7ModUCcNnWtB3gU4linY9+S0eROU0jGNrToqS6dt40Az4H+W3dT3TKf3AYwFP3/UPl6f3PftPZlt71vX/dXSt/WIAgazoWgHv/ft1v3/Gk6X7ZiurQv5dv6tUhazDXanUlmTm0v9tKy/cgNN+3afxYQ/PCJTID3tPbhSe/5NjEOwAmJ3v/H0iL07+bJ75eebp5c/X/0is/+EA8rf7vsuUPCxBkjboSzHW/jPDIG7o1fa/VpBmCdkJ85zz47WdQ2AFJ1089OAXyOxMLDAB03cl1Q1M9qtXXdtIZebWZyM8h3b9p/AoAQM8OkEYnXU4lpThPR9/36kubcPL0UQBANY6kyR8WIMiakgWQ2T6Fx9/zq6RGJ+xbXSVS9/Oe+VOaFajrBgweh9YiHpoepQjYtpoDPtLInpueUkZc2PJLyA4QXJdzv5/Xof+H/CmHyn/8Zz8CgO//0ClzWIAgaxJzAPL+ebRn3elVAHZsqWp0eacfIXW/JyKkzQeK6NBZAG8fsv4YYhCNyKNhHk2mnWLA90Y11aMXtvwU3aeI/lvvTDr629z9SdZ/6x0AuPaKzUitG3jkDwsQZE03G9QaJTdtqpbY97nKmlSH16Ry0u7cDvCfucUo3SACALh6zex08QOVaCfEc13I/V3PzSjyRCPPuf7yLfxpt35W8nO4tv6/fQcBPPDrf6vUKWYF3GvYXHn68Ok/BrD/tm3VP5Jhyx8WIMiaxBxAZukQfo9fqymflnpQcoeoh6PvAsAjj44DwAdI4rmhRGvl8XS1muXytLa2ZeD9aCx3+TWe+uJPAABrUV4bLlYJekxO9lYJ6OlToLY/AfDAB39Xqe+RPyxAkDXqSjCnqccva0q97llPoDpPvAoA7RYA3HUWAC4V8Q3/PlQN/2k2Wqsi4qFlXFrkKf/utd+qlJDu333llwHc3dHurP6VXwbwwCTNFvhacq83zQ5ohAUIsiZhAaTm5vg9fjvbR+tBls/OjQJ44VYAuGYNANCt39odgBxPFFxD82i1MyvngwtPfor5PDb6QwDHWDnX/TadOqcB4LGJ6orvo/g6gK/AigtxwgIEWVM+Ge7OcQDAGeh6ncf1CenNU53djuwgTfcTFPsn7/+9md6/5Kdu24AXj3dqcmvgXz3V9tQ2bWW39ejX3OSn+D1B1oD28q67slennAVk9UM98D6BX8G35yEsQJA1iTnA5BurAKxedw6FduczAf8KAKFFe+TsQrL5+jMAJo9W3yJ1DPdrD061k3U8DOINa/rYc95ODvL/+8RuADfcsAPAmvW9x9xff/+/fwXgw5NTAF4ee7vSw7FTE5W25R56bX/5y5ed8ocFCLKmdEPMri1tAA8e6T2WHj+Ha3G5dqvV1OC5nxKSatcWQPfteOSbvFJNj/p3xDZtZXvhtjbKR/51v/1Z4y3r8FkAO0ZPVMpfOz1utCI+fG0K+l8h5Q8LEGRN6WQ4jtTH2sqAprO1+rKVjCnxVtpMgB9JqY14TQ/15yt7oi7+9dec5Z9v7L+Cyx8WIMiaRBTokpVA3Smf2t4uHhfy2AotRmTDbwngaNmOWlZ6U+S5nNouKiltyM/rU+Reo7PrV/zXoD0D8iQIzv34TOVdtvxhAYKsSZwNuvM6AHjwyCgK/5s0927FJnAP3qP1tVVhf0xJop2YwGmaHanpOc+5nE1PWMhB/r3/8T/G0/nDlj8sQJA1nT3BUivQTIBiL6vX1ut+iX1SkJ1nqlkbjhzT/KzjpmcZaLpzWPGWuhOYeasLX/5y3o7gSgB4DNV5As8D1ZlAYW3+9A+uZeVp+cMCBFlTuime4rU0Z6eZwENvAkVW5uq11aGnRXXsHWQ1ul+sPZMVojVgoqvtplN/knbmvQ3Xmva5CRqeE/QrkZaQf8HQ5A8LEGRN4pZIvx2Q+r6p7pfxJan7T7MzIPi+VVuryRHviVTwthJbk1EMTZ5Co/Wcm/xvAAD+9p/+GcC3v/LXRluCIvplJmpbUf+2VESsBAdBeSWYrxHy/I2dAAo7cP7jUQCfnAN8+335bQCEtsYsdT9Fonbdjoo8lazGZBSL4HpIu1vFk+/u92v9t2vlJv/nf/83UcRnbD09OL/zW9dC/D9JyhYWIMiaRC4QvzuWvLdtG9oo7ADBZwUEzQ007e6J68t8T5qBFLl7tR2oI94T3/D0pp2YWadN6zW09kZPq+Ulfzk2b6H15s9g9cgfFiDImpIF0GLJNObIDtDP++5oo4gU0V6t0unNn4r3rKgXhUf6iSIeVR21lXx0pLSFrT8GOe1My6D0e9WSkN+WUysfXP6wAEHWlCyA53RiPv5IQ79kRo5tuBbX8sglWp5jk3hIs1bDgv+NIb+/1bCQ8ocFCLLGdTo0x39escfbk3EJf96IXdMvp91DyK9xYci/Ys+BEwMKGgTLl/8HBOpEpFfsR1QAAAAASUVORK5CYII=\" class=\"ndarray_image_preview\" /><pre class=\"ndarray_raw_data\">array([[[180, 200, 230],\n",
              "        [180, 200, 230],\n",
              "        [180, 200, 230],\n",
              "        ...,\n",
              "        [180, 200, 230],\n",
              "        [180, 200, 230],\n",
              "        [180, 200, 230]],\n",
              "\n",
              "       [[180, 200, 230],\n",
              "        [204, 230, 255],\n",
              "        [204, 230, 255],\n",
              "        ...,\n",
              "        [204, 230, 255],\n",
              "        [204, 230, 255],\n",
              "        [180, 200, 230]],\n",
              "\n",
              "       [[180, 200, 230],\n",
              "        [235, 245, 249],\n",
              "        [204, 230, 255],\n",
              "        ...,\n",
              "        [204, 230, 255],\n",
              "        [204, 230, 255],\n",
              "        [180, 200, 230]],\n",
              "\n",
              "       ...,\n",
              "\n",
              "       [[180, 200, 230],\n",
              "        [235, 245, 249],\n",
              "        [235, 245, 249],\n",
              "        ...,\n",
              "        [204, 230, 255],\n",
              "        [235, 245, 249],\n",
              "        [180, 200, 230]],\n",
              "\n",
              "       [[180, 200, 230],\n",
              "        [235, 245, 249],\n",
              "        [235, 245, 249],\n",
              "        ...,\n",
              "        [204, 230, 255],\n",
              "        [204, 230, 255],\n",
              "        [180, 200, 230]],\n",
              "\n",
              "       [[180, 200, 230],\n",
              "        [180, 200, 230],\n",
              "        [180, 200, 230],\n",
              "        ...,\n",
              "        [180, 200, 230],\n",
              "        [180, 200, 230],\n",
              "        [180, 200, 230]]], dtype=uint8)</pre></div><script>\n",
              "      (() => {\n",
              "      const titles = ['show data', 'hide data'];\n",
              "      let index = 0\n",
              "      document.querySelector('#id-fdf1aac3-c762-43e7-94c3-d298f118751f button').onclick = (e) => {\n",
              "        document.querySelector('#id-fdf1aac3-c762-43e7-94c3-d298f118751f').classList.toggle('show_array');\n",
              "        index = (++index) % 2;\n",
              "        document.querySelector('#id-fdf1aac3-c762-43e7-94c3-d298f118751f button').textContent = titles[index];\n",
              "        e.preventDefault();\n",
              "        e.stopPropagation();\n",
              "      }\n",
              "      })();\n",
              "    </script>"
            ]
          },
          "metadata": {},
          "execution_count": 9
        }
      ]
    },
    {
      "cell_type": "markdown",
      "metadata": {
        "id": "vmW6HAbQp01f"
      },
      "source": [
        "###Frozen Lake Enviornment\n",
        "Now that we have a basic understanding of how the gym enviornment works it's time to discuss the specific problem we will be solving.\n",
        "\n",
        "The enviornment we loaded above ```FrozenLake-v0``` is one of the simplest enviornments in Open AI Gym. The goal of the agent is to navigate a frozen lake and find the Goal without falling through the ice (render the enviornment above to see an example).\n",
        "\n",
        "There are:\n",
        "- 16 states (one for each square)\n",
        "- 4 possible actions (LEFT, RIGHT, DOWN, UP)\n",
        "- 4 different types of blocks (F: frozen, H: hole, S: start, G: goal)\n",
        "\n"
      ]
    },
    {
      "cell_type": "markdown",
      "metadata": {
        "id": "YlWoK75ZrK2b"
      },
      "source": [
        "###Building the Q-Table\n",
        "The first thing we need to do is build an empty Q-Table that we can use to store and update our values."
      ]
    },
    {
      "cell_type": "code",
      "metadata": {
        "id": "r767K4s0rR2p"
      },
      "source": [
        "import gym\n",
        "import numpy as np\n",
        "import time\n",
        "\n",
        "env = gym.make('FrozenLake-v1')\n",
        "STATES = env.observation_space.n\n",
        "ACTIONS = env.action_space.n"
      ],
      "execution_count": 10,
      "outputs": []
    },
    {
      "cell_type": "code",
      "metadata": {
        "id": "UAzMWGatrVIk",
        "colab": {
          "base_uri": "https://localhost:8080/",
          "height": 0
        },
        "outputId": "ba20ea67-bc44-4df5-d7ab-04a36a60f549"
      },
      "source": [
        "Q = np.zeros((STATES, ACTIONS))  # create a matrix with all 0 values\n",
        "Q"
      ],
      "execution_count": 11,
      "outputs": [
        {
          "output_type": "execute_result",
          "data": {
            "text/plain": [
              "array([[0., 0., 0., 0.],\n",
              "       [0., 0., 0., 0.],\n",
              "       [0., 0., 0., 0.],\n",
              "       [0., 0., 0., 0.],\n",
              "       [0., 0., 0., 0.],\n",
              "       [0., 0., 0., 0.],\n",
              "       [0., 0., 0., 0.],\n",
              "       [0., 0., 0., 0.],\n",
              "       [0., 0., 0., 0.],\n",
              "       [0., 0., 0., 0.],\n",
              "       [0., 0., 0., 0.],\n",
              "       [0., 0., 0., 0.],\n",
              "       [0., 0., 0., 0.],\n",
              "       [0., 0., 0., 0.],\n",
              "       [0., 0., 0., 0.],\n",
              "       [0., 0., 0., 0.]])"
            ]
          },
          "metadata": {},
          "execution_count": 11
        }
      ]
    },
    {
      "cell_type": "markdown",
      "metadata": {
        "id": "vc_h8tLSrpmc"
      },
      "source": [
        "###Constants\n",
        "As we discussed we need to define some constants that will be used to update our Q-Table and tell our agent when to stop training."
      ]
    },
    {
      "cell_type": "code",
      "metadata": {
        "id": "-FQapdnnr6P1"
      },
      "source": [
        "EPISODES = 2000 # how many times to run the enviornment from the beginning\n",
        "MAX_STEPS = 100  # max number of steps allowed for each run of enviornment\n",
        "\n",
        "LEARNING_RATE = 0.81  # learning rate\n",
        "GAMMA = 0.96"
      ],
      "execution_count": 12,
      "outputs": []
    },
    {
      "cell_type": "markdown",
      "metadata": {
        "id": "NxrAj91rsMfm"
      },
      "source": [
        "###Picking an Action\n",
        "Remember that we can pick an action using one of two methods:\n",
        "1. Randomly picking a valid action\n",
        "2. Using the current Q-Table to find the best action.\n",
        "\n",
        "Here we will define a new value $\\epsilon$ that will tell us the probabillity of selecting a random action. This value will start off very high and slowly decrease as the agent learns more about the enviornment."
      ]
    },
    {
      "cell_type": "code",
      "metadata": {
        "id": "YUAQVyX0sWDb"
      },
      "source": [
        "epsilon = 0.9  # start with a 90% chance of picking a random action\n",
        "\n",
        "# code to pick action\n",
        "if np.random.uniform(0, 1) < epsilon:  # we will check if a randomly selected value is less than epsilon.\n",
        "    action = env.action_space.sample()  # take random action\n",
        "else:\n",
        "    action = np.argmax(Q[state, :])  # use Q table to pick best action based on current values"
      ],
      "execution_count": 13,
      "outputs": []
    },
    {
      "cell_type": "markdown",
      "metadata": {
        "id": "5n-i0B7Atige"
      },
      "source": [
        "###Updating Q Values\n",
        "The code below implements the formula discussed above."
      ]
    },
    {
      "cell_type": "code",
      "metadata": {
        "id": "9r7R1W6Qtnh8",
        "colab": {
          "base_uri": "https://localhost:8080/",
          "height": 141
        },
        "outputId": "bc350e32-e0ac-4475-c9a3-b706e49fa3ae"
      },
      "source": [
        "Q[state, action] = Q[state, action] + LEARNING_RATE * (reward + GAMMA * np.max(Q[new_state, :]) - Q[state, action])"
      ],
      "execution_count": 23,
      "outputs": [
        {
          "output_type": "error",
          "ename": "NameError",
          "evalue": "name 'state' is not defined",
          "traceback": [
            "\u001b[0;31m---------------------------------------------------------------------------\u001b[0m",
            "\u001b[0;31mNameError\u001b[0m                                 Traceback (most recent call last)",
            "\u001b[0;32m<ipython-input-23-e788c0f77746>\u001b[0m in \u001b[0;36m<cell line: 0>\u001b[0;34m()\u001b[0m\n\u001b[0;32m----> 1\u001b[0;31m \u001b[0mQ\u001b[0m\u001b[0;34m[\u001b[0m\u001b[0mstate\u001b[0m\u001b[0;34m,\u001b[0m \u001b[0maction\u001b[0m\u001b[0;34m]\u001b[0m \u001b[0;34m=\u001b[0m \u001b[0mQ\u001b[0m\u001b[0;34m[\u001b[0m\u001b[0mstate\u001b[0m\u001b[0;34m,\u001b[0m \u001b[0maction\u001b[0m\u001b[0;34m]\u001b[0m \u001b[0;34m+\u001b[0m \u001b[0mLEARNING_RATE\u001b[0m \u001b[0;34m*\u001b[0m \u001b[0;34m(\u001b[0m\u001b[0mreward\u001b[0m \u001b[0;34m+\u001b[0m \u001b[0mGAMMA\u001b[0m \u001b[0;34m*\u001b[0m \u001b[0mnp\u001b[0m\u001b[0;34m.\u001b[0m\u001b[0mmax\u001b[0m\u001b[0;34m(\u001b[0m\u001b[0mQ\u001b[0m\u001b[0;34m[\u001b[0m\u001b[0mnew_state\u001b[0m\u001b[0;34m,\u001b[0m \u001b[0;34m:\u001b[0m\u001b[0;34m]\u001b[0m\u001b[0;34m)\u001b[0m \u001b[0;34m-\u001b[0m \u001b[0mQ\u001b[0m\u001b[0;34m[\u001b[0m\u001b[0mstate\u001b[0m\u001b[0;34m,\u001b[0m \u001b[0maction\u001b[0m\u001b[0;34m]\u001b[0m\u001b[0;34m)\u001b[0m\u001b[0;34m\u001b[0m\u001b[0;34m\u001b[0m\u001b[0m\n\u001b[0m",
            "\u001b[0;31mNameError\u001b[0m: name 'state' is not defined"
          ]
        }
      ]
    },
    {
      "cell_type": "markdown",
      "metadata": {
        "id": "__afaD62uh8G"
      },
      "source": [
        "###Putting it Together\n",
        "Now that we know how to do some basic things we can combine these together to create our Q-Learning algorithm,"
      ]
    },
    {
      "cell_type": "code",
      "metadata": {
        "id": "AGiYCiNuutHz"
      },
      "source": [
        "import gym\n",
        "import numpy as np\n",
        "import time\n",
        "\n",
        "env = gym.make('FrozenLake-v1', is_slippery=False)\n",
        "STATES = env.observation_space.n\n",
        "ACTIONS = env.action_space.n\n",
        "\n",
        "Q = np.zeros((STATES, ACTIONS))\n",
        "\n",
        "EPISODES = 1500 # how many times to run the enviornment from the beginning\n",
        "MAX_STEPS = 100  # max number of steps allowed for each run of enviornment\n",
        "\n",
        "LEARNING_RATE = 0.9  # learning rate\n",
        "GAMMA = 0.95\n",
        "\n",
        "RENDER = False # if you want to see training set to true\n",
        "\n",
        "epsilon = 0.9\n"
      ],
      "execution_count": 31,
      "outputs": []
    },
    {
      "cell_type": "code",
      "metadata": {
        "id": "jFRtn5dUu5ZI",
        "colab": {
          "base_uri": "https://localhost:8080/",
          "height": 0
        },
        "outputId": "7c85fe69-8f1f-4de8-cb47-8f4a583bb12d"
      },
      "source": [
        "rewards = []\n",
        "for episode in range(EPISODES):\n",
        "\n",
        "  state,_ = env.reset()\n",
        "  total_reward = 0\n",
        "  for _ in range(MAX_STEPS):\n",
        "\n",
        "    if RENDER:\n",
        "      env.render()\n",
        "\n",
        "    if np.random.uniform(0, 1) < epsilon:\n",
        "      action = env.action_space.sample()\n",
        "    else:\n",
        "      action = np.argmax(Q[state, :])\n",
        "\n",
        "    next_state, reward, terminated, truncated, _ = env.step(action)\n",
        "\n",
        "\n",
        "    Q[state, action] = Q[state, action] + LEARNING_RATE * (reward + GAMMA * np.max(Q[next_state, :]) - Q[state, action])\n",
        "\n",
        "    state = next_state\n",
        "    total_reward += reward\n",
        "\n",
        "    if terminated or truncated:\n",
        "      rewards.append(reward)\n",
        "      epsilon -= 0.001\n",
        "      break  # reached goal\n",
        "\n",
        "print(Q)\n",
        "print(f\"Average reward: {sum(rewards)/len(rewards)}:\")\n",
        "# and now we can see our Q values!"
      ],
      "execution_count": 33,
      "outputs": [
        {
          "output_type": "stream",
          "name": "stdout",
          "text": [
            "[[0.73509189 0.77378094 0.77378094 0.73509189]\n",
            " [0.73509189 0.         0.81450625 0.77378094]\n",
            " [0.77378094 0.857375   0.77378094 0.81450625]\n",
            " [0.81450625 0.         0.77378063 0.77378077]\n",
            " [0.77378094 0.81450625 0.         0.73509189]\n",
            " [0.         0.         0.         0.        ]\n",
            " [0.         0.9025     0.         0.81450625]\n",
            " [0.         0.         0.         0.        ]\n",
            " [0.81450625 0.         0.857375   0.77378094]\n",
            " [0.81450625 0.9025     0.9025     0.        ]\n",
            " [0.857375   0.95       0.         0.857375  ]\n",
            " [0.         0.         0.         0.        ]\n",
            " [0.         0.         0.         0.        ]\n",
            " [0.         0.9025     0.95       0.857375  ]\n",
            " [0.9025     0.95       1.         0.9025    ]\n",
            " [0.         0.         0.         0.        ]]\n",
            "Average reward: 0.6913333333333334:\n"
          ]
        }
      ]
    },
    {
      "cell_type": "code",
      "metadata": {
        "id": "Zo-tNznd65US",
        "colab": {
          "base_uri": "https://localhost:8080/",
          "height": 449
        },
        "outputId": "381d1f61-3fe2-49d2-bbd9-0a221f64fd74"
      },
      "source": [
        "# we can plot the training progress and see how the agent improved\n",
        "import matplotlib.pyplot as plt\n",
        "\n",
        "def get_average(values):\n",
        "  return sum(values)/len(values)\n",
        "\n",
        "avg_rewards = []\n",
        "for i in range(0, len(rewards), 100):\n",
        "  avg_rewards.append(get_average(rewards[i:i+100]))\n",
        "\n",
        "plt.plot(avg_rewards)\n",
        "plt.ylabel('average reward')\n",
        "plt.xlabel('episodes (100\\'s)')\n",
        "plt.show()"
      ],
      "execution_count": 34,
      "outputs": [
        {
          "output_type": "display_data",
          "data": {
            "text/plain": [
              "<Figure size 640x480 with 1 Axes>"
            ],
            "image/png": "[encoded data removed]"
          },
          "metadata": {}
        }
      ]
    }
  ]
}