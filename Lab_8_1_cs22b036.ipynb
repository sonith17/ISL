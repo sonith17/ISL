{
  "nbformat": 4,
  "nbformat_minor": 0,
  "metadata": {
    "colab": {
      "provenance": []
    },
    "kernelspec": {
      "name": "python3",
      "display_name": "Python 3"
    },
    "language_info": {
      "name": "python"
    }
  },
  "cells": [
    {
      "cell_type": "code",
      "execution_count": null,
      "metadata": {
        "colab": {
          "base_uri": "https://localhost:8080/"
        },
        "id": "v2Sl-WTPgM-V",
        "outputId": "cfd02dcb-0552-4cab-fd69-d25956045d96"
      },
      "outputs": [
        {
          "output_type": "stream",
          "name": "stderr",
          "text": [
            "[nltk_data] Downloading package brown to /root/nltk_data...\n",
            "[nltk_data]   Unzipping corpora/brown.zip.\n"
          ]
        }
      ],
      "source": [
        "import re\n",
        "import nltk\n",
        "nltk.download('brown')\n",
        "from nltk.corpus import brown\n",
        "\n",
        "from collections import Counter\n",
        "import random, math\n",
        "import itertools\n",
        "\n",
        "import numpy as np\n",
        "\n",
        "import torch\n",
        "import torch.nn  as  nn\n",
        "import torch.autograd  as autograd\n",
        "import torch.optim as optim\n",
        "import torch.nn.functional as F\n",
        "from tqdm import tqdm\n",
        "import time\n",
        "from numpy.random import multinomial"
      ]
    },
    {
      "cell_type": "code",
      "source": [
        "corpus = []\n",
        "\n",
        "for cat in ['news']:\n",
        "    for text_id in brown.fileids(cat):\n",
        "        raw_text = list(itertools.chain.from_iterable(brown.sents(text_id)))\n",
        "        text = ' '.join(raw_text)\n",
        "        text = text.lower()\n",
        "        text.replace('\\n', ' ')\n",
        "        text = re.sub('[^a-z ]+', '', text)\n",
        "        corpus.append([w for w in text.split() if w != ''])"
      ],
      "metadata": {
        "id": "MP5WsCJghbfq"
      },
      "execution_count": null,
      "outputs": []
    },
    {
      "cell_type": "code",
      "source": [
        "def subsample_frequent_words(corpus):\n",
        "    filtered_corpus = []\n",
        "    word_counts = dict(Counter(list(itertools.chain.from_iterable(corpus))))\n",
        "    sum_word_counts = sum(list(word_counts.values()))\n",
        "    word_counts = {word: word_counts[word]/float(sum_word_counts) for word in word_counts}\n",
        "    for text in corpus:\n",
        "        filtered_corpus.append([])\n",
        "        for word in text:\n",
        "            if random.random() < (1+math.sqrt(word_counts[word] * 1e3)) * 1e-3 / float(word_counts[word]):\n",
        "                filtered_corpus[-1].append(word)\n",
        "    return filtered_corpus\n"
      ],
      "metadata": {
        "id": "JjtGX4Gbhe8z"
      },
      "execution_count": null,
      "outputs": []
    },
    {
      "cell_type": "code",
      "source": [
        "corpus = subsample_frequent_words(corpus)\n",
        "vocabulary = set(itertools.chain.from_iterable(corpus))\n",
        "\n",
        "word_to_index = {w: idx for (idx, w) in enumerate(vocabulary)}\n",
        "index_to_word = {idx: w for (idx, w) in enumerate(vocabulary)}\n"
      ],
      "metadata": {
        "id": "cNfoRTPBhiF6"
      },
      "execution_count": null,
      "outputs": []
    },
    {
      "cell_type": "code",
      "source": [
        "context_tuple_list = []\n",
        "w = 4\n",
        "\n",
        "for text in corpus:\n",
        "    for i, word in enumerate(text):\n",
        "        first_context_word_index = max(0,i-w)\n",
        "        last_context_word_index = min(i+w, len(text))\n",
        "        for j in range(first_context_word_index, last_context_word_index):\n",
        "            if i!=j:\n",
        "                context_tuple_list.append((word, text[j]))\n",
        "print(\"There are {} pairs of target and context words\".format(len(context_tuple_list)))\n"
      ],
      "metadata": {
        "id": "C8vRpbIshsWz",
        "colab": {
          "base_uri": "https://localhost:8080/"
        },
        "outputId": "ba847a4d-a73e-46d8-f73c-388c3697395c"
      },
      "execution_count": null,
      "outputs": [
        {
          "output_type": "stream",
          "name": "stdout",
          "text": [
            "There are 473371 pairs of target and context words\n"
          ]
        }
      ]
    },
    {
      "cell_type": "code",
      "source": [
        "class Word2Vec(nn.Module):\n",
        "\n",
        "    def __init__(self, embedding_size, vocab_size):\n",
        "        super(Word2Vec, self).__init__()\n",
        "        self.embeddings = nn.Embedding(vocab_size, embedding_size)\n",
        "        self.linear = nn.Linear(embedding_size, vocab_size)\n",
        "\n",
        "    def forward(self, context_word):\n",
        "        emb = self.embeddings(context_word)\n",
        "        hidden = self.linear(emb)\n",
        "        out = F.log_softmax(hidden)\n",
        "        return out\n"
      ],
      "metadata": {
        "id": "gliWV6jdg8Gi"
      },
      "execution_count": null,
      "outputs": []
    },
    {
      "cell_type": "code",
      "source": [
        "class EarlyStopping():\n",
        "    def __init__(self, patience=5, min_percent_gain=100):\n",
        "        self.patience = patience\n",
        "        self.loss_list = []\n",
        "        self.min_percent_gain = min_percent_gain / 100.\n",
        "\n",
        "    def update_loss(self, loss):\n",
        "        self.loss_list.append(loss)\n",
        "        if len(self.loss_list) > self.patience:\n",
        "            del self.loss_list[0]\n",
        "\n",
        "    def stop_training(self):\n",
        "        if len(self.loss_list) == 1:\n",
        "            return False\n",
        "        gain = (max(self.loss_list) - min(self.loss_list)) / max(self.loss_list)\n",
        "        print(\"Loss gain: {}%\".format(round(100*gain,2)))\n",
        "        if gain < self.min_percent_gain:\n",
        "            return True\n",
        "        else:\n",
        "            return False\n"
      ],
      "metadata": {
        "id": "LSvITi7DhJ3j"
      },
      "execution_count": null,
      "outputs": []
    },
    {
      "cell_type": "code",
      "source": [
        "vocabulary_size = len(vocabulary)\n",
        "\n",
        "net = Word2Vec(embedding_size=2, vocab_size=vocabulary_size)\n",
        "loss_function = nn.CrossEntropyLoss()\n",
        "optimizer = optim.Adam(net.parameters())\n",
        "early_stopping = EarlyStopping()\n",
        "context_tensor_list = []\n",
        "\n",
        "for target, context in context_tuple_list:\n",
        "    target_tensor = autograd.Variable(torch.LongTensor([word_to_index[target]]))\n",
        "    context_tensor = autograd.Variable(torch.LongTensor([word_to_index[context]]))\n",
        "    context_tensor_list.append((target_tensor, context_tensor))\n",
        "\n",
        "while True:\n",
        "    losses = []\n",
        "    for target_tensor, context_tensor in tqdm(context_tensor_list):\n",
        "        net.zero_grad()\n",
        "        log_probs = net(context_tensor)\n",
        "        loss = loss_function(log_probs, target_tensor)\n",
        "        loss.backward()\n",
        "        optimizer.step()\n",
        "        losses.append(loss.data)\n",
        "    print(\"Loss: \", np.mean(losses))\n",
        "    early_stopping.update_loss(np.mean(losses))\n",
        "    if early_stopping.stop_training():\n",
        "        break\n"
      ],
      "metadata": {
        "id": "znKk3cbqhOsL",
        "colab": {
          "base_uri": "https://localhost:8080/"
        },
        "outputId": "d1747cdd-a5e5-4206-f9d1-ab841be671a6"
      },
      "execution_count": null,
      "outputs": [
        {
          "output_type": "stream",
          "name": "stderr",
          "text": [
            "  0%|          | 0/473371 [00:00<?, ?it/s]<ipython-input-6-7a33a1aaebc6>:11: UserWarning: Implicit dimension choice for log_softmax has been deprecated. Change the call to include dim=X as an argument.\n",
            "  out = F.log_softmax(hidden)\n",
            "100%|██████████| 473371/473371 [10:58<00:00, 718.57it/s]\n"
          ]
        },
        {
          "output_type": "stream",
          "name": "stdout",
          "text": [
            "Loss:  12.686098\n"
          ]
        },
        {
          "output_type": "stream",
          "name": "stderr",
          "text": [
            "100%|██████████| 473371/473371 [12:05<00:00, 652.53it/s]\n"
          ]
        },
        {
          "output_type": "stream",
          "name": "stdout",
          "text": [
            "Loss:  12.885146\n",
            "Loss gain: 1.54%\n"
          ]
        }
      ]
    },
    {
      "cell_type": "code",
      "source": [
        "\n",
        "\n",
        "def get_batches(context_tuple_list, batch_size=100):\n",
        "    random.shuffle(context_tuple_list)\n",
        "    batches = []\n",
        "    batch_target, batch_context, batch_negative = [], [], []\n",
        "    for i in range(len(context_tuple_list)):\n",
        "        batch_target.append(word_to_index[context_tuple_list[i][0]])\n",
        "        batch_context.append(word_to_index[context_tuple_list[i][1]])\n",
        "        batch_negative.append([word_to_index[w] for w in context_tuple_list[i][2]])\n",
        "        if (i+1) % batch_size == 0 or i == len(context_tuple_list)-1:\n",
        "            tensor_target = autograd.Variable(torch.from_numpy(np.array(batch_target)).long())\n",
        "            tensor_context = autograd.Variable(torch.from_numpy(np.array(batch_context)).long())\n",
        "            tensor_negative = autograd.Variable(torch.from_numpy(np.array(batch_negative)).long())\n",
        "            batches.append((tensor_target, tensor_context, tensor_negative))\n",
        "            batch_target, batch_context, batch_negative = [], [], []\n",
        "    return batches\n"
      ],
      "metadata": {
        "id": "M-8ZYQz9jYs2"
      },
      "execution_count": null,
      "outputs": []
    },
    {
      "cell_type": "code",
      "source": [
        "\n",
        "\n",
        "def sample_negative(sample_size):\n",
        "    sample_probability = {}\n",
        "    word_counts = dict(Counter(list(itertools.chain.from_iterable(corpus))))\n",
        "    normalizing_factor = sum([v**0.75 for v in word_counts.values()])\n",
        "    for word in word_counts:\n",
        "        sample_probability[word] = word_counts[word]**0.75 / normalizing_factor\n",
        "    words = np.array(list(word_counts.keys()))\n",
        "    while True:\n",
        "        word_list = []\n",
        "        sampled_index = np.array(multinomial(sample_size, list(sample_probability.values())))\n",
        "        for index, count in enumerate(sampled_index):\n",
        "            for _ in range(count):\n",
        "                 word_list.append(words[index])\n",
        "        yield word_list\n"
      ],
      "metadata": {
        "id": "quqysvgHjbLl"
      },
      "execution_count": null,
      "outputs": []
    },
    {
      "cell_type": "code",
      "source": [
        "\n",
        "\n",
        "context_tuple_list = []\n",
        "w = 4\n",
        "negative_samples = sample_negative(8)\n",
        "\n",
        "for text in corpus:\n",
        "    for i, word in enumerate(text):\n",
        "        first_context_word_index = max(0,i-w)\n",
        "        last_context_word_index = min(i+w, len(text))\n",
        "        for j in range(first_context_word_index, last_context_word_index):\n",
        "            if i!=j:\n",
        "                context_tuple_list.append((word, text[j], next(negative_samples)))\n",
        "print(\"There are {} pairs of target and context words\".format(len(context_tuple_list)))\n",
        "\n"
      ],
      "metadata": {
        "id": "IpOFDo2Sjek1",
        "colab": {
          "base_uri": "https://localhost:8080/"
        },
        "outputId": "1fd0db60-41c7-41e4-e2ea-8d8e9ed8d541"
      },
      "execution_count": null,
      "outputs": [
        {
          "output_type": "stream",
          "name": "stdout",
          "text": [
            "There are 473371 pairs of target and context words\n"
          ]
        }
      ]
    },
    {
      "cell_type": "code",
      "source": [
        "\n",
        "\n",
        "\n",
        "class Word2Vec(nn.Module):\n",
        "\n",
        "    def __init__(self, embedding_size, vocab_size):\n",
        "        super(Word2Vec, self).__init__()\n",
        "        self.embeddings_target = nn.Embedding(vocab_size, embedding_size)\n",
        "        self.embeddings_context = nn.Embedding(vocab_size, embedding_size)\n",
        "\n",
        "    def forward(self, target_word, context_word, negative_example):\n",
        "        emb_target = self.embeddings_target(target_word)\n",
        "        emb_context = self.embeddings_context(context_word)\n",
        "        emb_product = torch.mul(emb_target, emb_context)\n",
        "        emb_product = torch.sum(emb_product, dim=1)\n",
        "        out = torch.sum(F.logsigmoid(emb_product))\n",
        "        emb_negative = self.embeddings_context(negative_example)\n",
        "        emb_product = torch.bmm(emb_negative, emb_target.unsqueeze(2))\n",
        "        emb_product = torch.sum(emb_product, dim=1)\n",
        "        out += torch.sum(F.logsigmoid(-emb_product))\n",
        "        return -out\n"
      ],
      "metadata": {
        "id": "w0IMSqaqjhrt"
      },
      "execution_count": null,
      "outputs": []
    },
    {
      "cell_type": "code",
      "source": [
        "\n",
        "\n",
        "vocabulary_size = len(vocabulary)\n",
        "\n",
        "loss_function = nn.CrossEntropyLoss()\n",
        "net = Word2Vec(embedding_size=200, vocab_size=vocabulary_size)\n",
        "optimizer = optim.Adam(net.parameters())\n",
        "early_stopping = EarlyStopping(patience=5, min_percent_gain=100)\n",
        "\n",
        "while True:\n",
        "    losses = []\n",
        "    context_tuple_batches = get_batches(context_tuple_list, batch_size=2000)\n",
        "    for i in range(len(context_tuple_batches)):\n",
        "        net.zero_grad()\n",
        "        target_tensor, context_tensor, negative_tensor = context_tuple_batches[i]\n",
        "        loss = net(target_tensor, context_tensor, negative_tensor)\n",
        "        loss.backward()\n",
        "        optimizer.step()\n",
        "        losses.append(loss.data)\n",
        "    print(\"Loss: \", np.mean(losses))\n",
        "    early_stopping.update_loss(np.mean(losses))\n",
        "    if early_stopping.stop_training():\n",
        "        break\n"
      ],
      "metadata": {
        "id": "G_LEa6wOjiid",
        "colab": {
          "base_uri": "https://localhost:8080/"
        },
        "outputId": "0c640e8d-10f8-489d-a54c-87b687693ff6"
      },
      "execution_count": null,
      "outputs": [
        {
          "output_type": "stream",
          "name": "stdout",
          "text": [
            "Loss:  42239.273\n",
            "Loss:  37470.69\n",
            "Loss gain: 11.29%\n"
          ]
        }
      ]
    },
    {
      "cell_type": "code",
      "source": [
        "\n",
        "\n",
        "def get_closest_word(word, topn=5):\n",
        "    word_distance = []\n",
        "    emb = net.embeddings_target\n",
        "    pdist = nn.PairwiseDistance()\n",
        "    i = word_to_index[word]\n",
        "    lookup_tensor_i = torch.tensor([i], dtype=torch.long)\n",
        "    v_i = emb(lookup_tensor_i)\n",
        "    for j in range(len(vocabulary)):\n",
        "        if j != i:\n",
        "            lookup_tensor_j = torch.tensor([j], dtype=torch.long)\n",
        "            v_j = emb(lookup_tensor_j)\n",
        "            word_distance.append((index_to_word[j], float(pdist(v_i, v_j))))\n",
        "    word_distance.sort(key=lambda x: x[1])\n",
        "    return word_distance[:topn]\n"
      ],
      "metadata": {
        "id": "vcunFHJcjnpe"
      },
      "execution_count": null,
      "outputs": []
    },
    {
      "cell_type": "code",
      "source": [
        "get_closest_word('man')"
      ],
      "metadata": {
        "id": "Z_XUqqO52VhP",
        "outputId": "b3e6dc58-a496-4248-b4d0-02a38b6ba6a3",
        "colab": {
          "base_uri": "https://localhost:8080/"
        }
      },
      "execution_count": null,
      "outputs": [
        {
          "output_type": "execute_result",
          "data": {
            "text/plain": [
              "[('headquarters', 16.1640625),\n",
              " ('turned', 16.30447769165039),\n",
              " ('pay', 16.48473358154297),\n",
              " ('communication', 16.501916885375977),\n",
              " ('tasks', 16.57686424255371)]"
            ]
          },
          "metadata": {},
          "execution_count": 18
        }
      ]
    }
  ]
}