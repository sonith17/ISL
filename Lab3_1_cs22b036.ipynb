{
  "nbformat": 4,
  "nbformat_minor": 0,
  "metadata": {
    "colab": {
      "provenance": []
    },
    "kernelspec": {
      "name": "python3",
      "display_name": "Python 3"
    },
    "language_info": {
      "name": "python"
    }
  },
  "cells": [
    {
      "cell_type": "code",
      "execution_count": 1,
      "metadata": {
        "id": "8S6FCDl41zXj"
      },
      "outputs": [],
      "source": [
        "from torch.utils.data import DataLoader,Dataset\n",
        "import torch\n",
        "import torchvision\n",
        "from torchvision import datasets"
      ]
    },
    {
      "cell_type": "code",
      "source": [
        "train_data = datasets.MNIST(root='./data',train=True,download=True,transform=torchvision.transforms.ToTensor())\n",
        "test_data = datasets.MNIST(root='./data',train=False,download=True,transform=torchvision.transforms.ToTensor())"
      ],
      "metadata": {
        "id": "x-msaSnN3Z1v"
      },
      "execution_count": 2,
      "outputs": []
    },
    {
      "cell_type": "code",
      "source": [
        "train_loader = DataLoader(train_data,batch_size=64,shuffle=True)\n",
        "test_loader = DataLoader(test_data,batch_size=64,shuffle=True)"
      ],
      "metadata": {
        "id": "slf1uK2u_YUh"
      },
      "execution_count": 3,
      "outputs": []
    },
    {
      "cell_type": "code",
      "source": [
        "x,y = train_data[0]\n",
        "print(x.shape,y)"
      ],
      "metadata": {
        "colab": {
          "base_uri": "https://localhost:8080/"
        },
        "id": "1-TqSd9kF8Ty",
        "outputId": "f621b525-309c-48c3-f1a8-650e0dcfae1e"
      },
      "execution_count": 4,
      "outputs": [
        {
          "output_type": "stream",
          "name": "stdout",
          "text": [
            "torch.Size([1, 28, 28]) 5\n"
          ]
        }
      ]
    },
    {
      "cell_type": "code",
      "source": [
        "class SimpleNN(torch.nn.Module):\n",
        "  def __init__(self):\n",
        "    super(SimpleNN,self).__init__()\n",
        "    self.conv = torch.nn.Conv2d(1,16,2)\n",
        "    self.conv2 = torch.nn.Conv2d(16,32,2)\n",
        "    self.relu = torch.nn.ReLU()\n",
        "    self.pool = torch.nn.MaxPool2d(2)\n",
        "    self.flatten = torch.nn.Flatten()\n",
        "    self.fc1 = torch.nn.Linear(1152,32)\n",
        "    self.fc2 = torch.nn.Linear(32,10)\n",
        "  def forward(self,x):\n",
        "    x = self.conv(x)\n",
        "    x = self.pool(x)\n",
        "    x = self.conv2(x)\n",
        "    x = self.pool(x)\n",
        "    x = self.flatten(x)\n",
        "    x = self.relu(x)\n",
        "    x = self.fc1(x)\n",
        "    x = self.relu(x)\n",
        "    x = self.fc2(x)\n",
        "    return x"
      ],
      "metadata": {
        "id": "-bymfQ-K_30i"
      },
      "execution_count": 5,
      "outputs": []
    },
    {
      "cell_type": "code",
      "source": [
        "model = SimpleNN()\n",
        "epochs = 5\n",
        "optimizer = torch.optim.Adam(model.parameters(),lr=0.001)\n",
        "criterion = torch.nn.CrossEntropyLoss()\n",
        "correct = 0\n",
        "total = 0"
      ],
      "metadata": {
        "id": "fyjfus0TCQ7z"
      },
      "execution_count": 6,
      "outputs": []
    },
    {
      "cell_type": "code",
      "source": [
        "for epoch in range(epochs):\n",
        "  running_loss = 0.0\n",
        "  for i,(input,label) in enumerate(train_loader):\n",
        "    output = model(input)\n",
        "    loss = criterion(output,label)\n",
        "    loss.backward()\n",
        "    optimizer.step()\n",
        "    optimizer.zero_grad()\n",
        "    running_loss += loss.item()\n",
        "    _,predicted = torch.max(output.data,1)\n",
        "    total += label.size(0)\n",
        "    correct += (predicted == label).sum().item()\n",
        "\n",
        "  print(f'Epoch: {epoch} Loss: {running_loss}')\n",
        "\n",
        "print(f'Train Accuracy: {(correct/total)*100}%')"
      ],
      "metadata": {
        "colab": {
          "base_uri": "https://localhost:8080/"
        },
        "id": "g7x19LJ_C1L9",
        "outputId": "cf00a3aa-9137-4542-c7e6-2082b81b0a4b"
      },
      "execution_count": 7,
      "outputs": [
        {
          "output_type": "stream",
          "name": "stdout",
          "text": [
            "Epoch: 0 Loss: 316.1711287945509\n",
            "Epoch: 1 Loss: 91.66960371751338\n",
            "Epoch: 2 Loss: 65.02049482008442\n",
            "Epoch: 3 Loss: 53.6218324394431\n",
            "Epoch: 4 Loss: 45.403507528826594\n",
            "Train Accuracy: 96.309%\n"
          ]
        }
      ]
    },
    {
      "cell_type": "code",
      "source": [
        "\n",
        "correct = 0\n",
        "total = 0\n",
        "for i,(input,label) in enumerate(test_loader):\n",
        "  output = model(input)\n",
        "  _,predicted = torch.max(output.data,1)\n",
        "  total += label.size(0)\n",
        "  correct += (predicted == label).sum().item()\n",
        "\n",
        "print(f'Test Accuracy: {(correct/total)*100}%')"
      ],
      "metadata": {
        "colab": {
          "base_uri": "https://localhost:8080/"
        },
        "id": "wVjVuXnNEpiB",
        "outputId": "f2cac2c5-9ccd-4da9-d8a9-ab819b780382"
      },
      "execution_count": 8,
      "outputs": [
        {
          "output_type": "stream",
          "name": "stdout",
          "text": [
            "Test Accuracy: 98.3%\n"
          ]
        }
      ]
    },
    {
      "cell_type": "code",
      "source": [
        "import matplotlib.pyplot as plt\n",
        "import numpy as np"
      ],
      "metadata": {
        "id": "oeGhoCKSMqG0"
      },
      "execution_count": 9,
      "outputs": []
    },
    {
      "cell_type": "code",
      "source": [
        "data_iter = iter(train_loader)\n",
        "images,labels = next(data_iter)\n",
        "\n",
        "with torch.no_grad():\n",
        "    output = model(images)\n",
        "    _,predicted = torch.max(output.data,1)\n",
        "\n",
        "for j in range(5):\n",
        "    image = images[j]\n",
        "    image = image.numpy()\n",
        "    plt.imshow(image[0], cmap='gray')\n",
        "    plt.title(f'Predicted: {predicted[j].item()}')\n",
        "    plt.axis('off')\n",
        "    plt.show()\n",
        ""
      ],
      "metadata": {
        "colab": {
          "base_uri": "https://localhost:8080/",
          "height": 1000
        },
        "id": "Sckh58mGMSKS",
        "outputId": "77ca90cb-5c7d-48a1-8b7c-ad7d7b7fd856"
      },
      "execution_count": 10,
      "outputs": [
        {
          "output_type": "display_data",
          "data": {
            "text/plain": [
              "<Figure size 640x480 with 1 Axes>"
            ],
            "image/png": "[encoded data removed]"
          },
          "metadata": {}
        },
        {
          "output_type": "display_data",
          "data": {
            "text/plain": [
              "<Figure size 640x480 with 1 Axes>"
            ],
            "image/png": "[encoded data removed]"
          },
          "metadata": {}
        },
        {
          "output_type": "display_data",
          "data": {
            "text/plain": [
              "<Figure size 640x480 with 1 Axes>"
            ],
            "image/png": "[encoded data removed]"
          },
          "metadata": {}
        },
        {
          "output_type": "display_data",
          "data": {
            "text/plain": [
              "<Figure size 640x480 with 1 Axes>"
            ],
            "image/png": "[encoded data removed]"
          },
          "metadata": {}
        },
        {
          "output_type": "display_data",
          "data": {
            "text/plain": [
              "<Figure size 640x480 with 1 Axes>"
            ],
            "image/png": "[encoded data removed]"
          },
          "metadata": {}
        }
      ]
    }
  ]
}