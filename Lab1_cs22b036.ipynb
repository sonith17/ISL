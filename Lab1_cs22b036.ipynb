{
  "nbformat": 4,
  "nbformat_minor": 0,
  "metadata": {
    "colab": {
      "provenance": []
    },
    "kernelspec": {
      "name": "python3",
      "display_name": "Python 3"
    },
    "language_info": {
      "name": "python"
    }
  },
  "cells": [
    {
      "cell_type": "code",
      "execution_count": 13,
      "metadata": {
        "id": "vW67l2GXyZiS"
      },
      "outputs": [],
      "source": [
        "import numpy as np\n",
        "import math"
      ]
    },
    {
      "cell_type": "code",
      "source": [
        "x = np.linspace(0,2,2000)\n",
        "x"
      ],
      "metadata": {
        "colab": {
          "base_uri": "https://localhost:8080/"
        },
        "id": "b5YI3uykyzPJ",
        "outputId": "ce75a17f-7d3f-4c59-f308-872e5834202c"
      },
      "execution_count": 14,
      "outputs": [
        {
          "output_type": "execute_result",
          "data": {
            "text/plain": [
              "array([0.00000000e+00, 1.00050025e-03, 2.00100050e-03, ...,\n",
              "       1.99799900e+00, 1.99899950e+00, 2.00000000e+00])"
            ]
          },
          "metadata": {},
          "execution_count": 14
        }
      ]
    },
    {
      "cell_type": "code",
      "source": [
        "y = 2.3 + 3.12*(x)+3*(x**2)+6.98*(x**3)\n",
        "y"
      ],
      "metadata": {
        "colab": {
          "base_uri": "https://localhost:8080/"
        },
        "id": "ti318k3uzLcj",
        "outputId": "cc51af71-d4cb-46c1-8a21-6c9f570337a3"
      },
      "execution_count": 15,
      "outputs": [
        {
          "output_type": "execute_result",
          "data": {
            "text/plain": [
              "array([ 2.3       ,  2.30312457,  2.30625519, ..., 76.18232071,\n",
              "       76.28111545, 76.38      ])"
            ]
          },
          "metadata": {},
          "execution_count": 15
        }
      ]
    },
    {
      "cell_type": "code",
      "source": [
        "a,b,c,d=np.random.randn(),np.random.randn(),np.random.randn(),np.random.randn()\n",
        "a,b,c,d"
      ],
      "metadata": {
        "colab": {
          "base_uri": "https://localhost:8080/"
        },
        "id": "meA6xKaozrAR",
        "outputId": "b25e8c24-c08f-4814-98f3-c35f340e386a"
      },
      "execution_count": 16,
      "outputs": [
        {
          "output_type": "execute_result",
          "data": {
            "text/plain": [
              "(0.5368403234534932, -2.03737648762631, 0.4905759287776675, 1.346351953869628)"
            ]
          },
          "metadata": {},
          "execution_count": 16
        }
      ]
    },
    {
      "cell_type": "code",
      "source": [
        "lr = 0.0000001\n",
        "for i in range(1000):\n",
        "  y_pred = a+b*(x)+c*(x**2)+d*(x**3)\n",
        "  loss = np.square(y_pred-y).sum()\n",
        "  if i%100==0:\n",
        "    print(i,loss)\n",
        "  grad_a = 2*np.sum(y_pred-y)\n",
        "  grad_b = 2*np.sum(x*(y_pred-y))\n",
        "  grad_c = 2*np.sum(x**2*(y_pred-y))\n",
        "  grad_d = 2*np.sum(x**3*(y_pred-y))\n",
        "\n",
        "  a=a-lr*grad_a\n",
        "  b=b-lr*grad_b\n",
        "  c=c-lr*grad_c\n",
        "  d=d-lr*grad_d\n",
        "\n",
        "print(f'y = {a}+{b}x+{c}x^2+{d}x^3')\n"
      ],
      "metadata": {
        "colab": {
          "base_uri": "https://localhost:8080/"
        },
        "id": "DfJ0fh_Z0CPI",
        "outputId": "253b0eba-9014-4a4a-8b67-cebb5a45fa2c"
      },
      "execution_count": 17,
      "outputs": [
        {
          "output_type": "stream",
          "name": "stdout",
          "text": [
            "0 1615720.0031250152\n",
            "100 528168.51889096\n",
            "200 173833.66198483456\n",
            "300 58332.116177562704\n",
            "400 20629.428811022564\n",
            "500 8272.038414861974\n",
            "600 4174.172768001949\n",
            "700 2770.33040399158\n",
            "800 2247.4883860819327\n",
            "900 2014.9185485621592\n",
            "y = 2.2832543689294056+0.34111312429643026x+4.139842926100822x^2+7.291020844516302x^3\n"
          ]
        }
      ]
    }
  ]
}