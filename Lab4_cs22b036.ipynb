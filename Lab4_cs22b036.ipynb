{
  "nbformat": 4,
  "nbformat_minor": 0,
  "metadata": {
    "colab": {
      "provenance": []
    },
    "kernelspec": {
      "name": "python3",
      "display_name": "Python 3"
    },
    "language_info": {
      "name": "python"
    }
  },
  "cells": [
    {
      "cell_type": "code",
      "execution_count": 1,
      "metadata": {
        "id": "Dg3EL65EIp4q"
      },
      "outputs": [],
      "source": [
        "import torch"
      ]
    },
    {
      "cell_type": "code",
      "source": [
        "x = torch.linspace(0,2,2000)\n",
        "x"
      ],
      "metadata": {
        "colab": {
          "base_uri": "https://localhost:8080/"
        },
        "id": "nl-kM8nWJNRa",
        "outputId": "7b59621d-02fb-4f31-a5f2-d21b910119b8"
      },
      "execution_count": 2,
      "outputs": [
        {
          "output_type": "execute_result",
          "data": {
            "text/plain": [
              "tensor([0.0000e+00, 1.0005e-03, 2.0010e-03,  ..., 1.9980e+00, 1.9990e+00,\n",
              "        2.0000e+00])"
            ]
          },
          "metadata": {},
          "execution_count": 2
        }
      ]
    },
    {
      "cell_type": "code",
      "source": [
        "y = 2.3 + 3.12*(x)+3*(x**2)+6.98*(x**3)\n",
        "y"
      ],
      "metadata": {
        "colab": {
          "base_uri": "https://localhost:8080/"
        },
        "id": "QxZwEn0yJi4h",
        "outputId": "1b667c7e-ca2f-488c-b958-d4dbf58c0027"
      },
      "execution_count": 3,
      "outputs": [
        {
          "output_type": "execute_result",
          "data": {
            "text/plain": [
              "tensor([ 2.3000,  2.3031,  2.3063,  ..., 76.1823, 76.2811, 76.3800])"
            ]
          },
          "metadata": {},
          "execution_count": 3
        }
      ]
    },
    {
      "cell_type": "code",
      "source": [
        "a,b,c,d = torch.randn((1),requires_grad=True),torch.randn((1),requires_grad=True),torch.randn((1),requires_grad=True),torch.randn((1),requires_grad=True)\n",
        "a,b,c,d"
      ],
      "metadata": {
        "colab": {
          "base_uri": "https://localhost:8080/"
        },
        "id": "0RWes-JuJluU",
        "outputId": "9d31b92d-8818-43af-cd08-4f63f5f2c243"
      },
      "execution_count": 4,
      "outputs": [
        {
          "output_type": "execute_result",
          "data": {
            "text/plain": [
              "(tensor([0.9798], requires_grad=True),\n",
              " tensor([0.3664], requires_grad=True),\n",
              " tensor([-1.0855], requires_grad=True),\n",
              " tensor([1.7085], requires_grad=True))"
            ]
          },
          "metadata": {},
          "execution_count": 4
        }
      ]
    },
    {
      "cell_type": "code",
      "source": [
        "optimizer = torch.optim.SGD([a,b,c,d],lr=0.0000001)"
      ],
      "metadata": {
        "id": "M2ro2d08JoQ6"
      },
      "execution_count": 5,
      "outputs": []
    },
    {
      "cell_type": "code",
      "source": [
        "for i in range(1000):\n",
        "  y_pred = a+b*(x)+c*(x**2)+d*(x**3)\n",
        "  loss = (y_pred-y).pow(2).sum()\n",
        "  if i%100==0:\n",
        "    print(i,loss.item())\n",
        "\n",
        "  optimizer.zero_grad()\n",
        "\n",
        "  loss.backward()\n",
        "\n",
        "  optimizer.step()\n",
        "\n",
        "print(f'y = {a.item()}+{b.item()}x+{c.item()}x^2+{d.item()}x^3')\n",
        ""
      ],
      "metadata": {
        "colab": {
          "base_uri": "https://localhost:8080/"
        },
        "id": "3bJsf1p2J-cI",
        "outputId": "0f2e4f06-b222-45bc-ca4d-6ced86fa41bd"
      },
      "execution_count": 6,
      "outputs": [
        {
          "output_type": "stream",
          "name": "stdout",
          "text": [
            "0 1474306.25\n",
            "100 480433.6875\n",
            "200 156694.046875\n",
            "300 51236.09375\n",
            "400 16878.50390625\n",
            "500 5680.66943359375\n",
            "600 2026.9256591796875\n",
            "700 830.8090209960938\n",
            "800 435.4817199707031\n",
            "900 301.2902526855469\n",
            "y = 2.4659018516540527+2.548074722290039x+2.384286642074585x^2+7.481374263763428x^3\n"
          ]
        }
      ]
    }
  ]
}