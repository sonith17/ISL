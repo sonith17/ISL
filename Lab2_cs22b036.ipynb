{
  "nbformat": 4,
  "nbformat_minor": 0,
  "metadata": {
    "colab": {
      "provenance": []
    },
    "kernelspec": {
      "name": "python3",
      "display_name": "Python 3"
    },
    "language_info": {
      "name": "python"
    }
  },
  "cells": [
    {
      "cell_type": "code",
      "execution_count": 13,
      "metadata": {
        "id": "qQ-O-gxe4fkI"
      },
      "outputs": [],
      "source": [
        "import torch\n"
      ]
    },
    {
      "cell_type": "code",
      "source": [
        "x = torch.linspace(0,2,2000)\n",
        "x"
      ],
      "metadata": {
        "colab": {
          "base_uri": "https://localhost:8080/"
        },
        "id": "AlGRaHG-4xFO",
        "outputId": "d0b8fd0d-988a-4109-f963-42fd253c3a1b"
      },
      "execution_count": 14,
      "outputs": [
        {
          "output_type": "execute_result",
          "data": {
            "text/plain": [
              "tensor([0.0000e+00, 1.0005e-03, 2.0010e-03,  ..., 1.9980e+00, 1.9990e+00,\n",
              "        2.0000e+00])"
            ]
          },
          "metadata": {},
          "execution_count": 14
        }
      ]
    },
    {
      "cell_type": "code",
      "source": [
        "y = 2.3 + 3.12*(x)+3*(x**2)+6.98*(x**3)\n",
        "y"
      ],
      "metadata": {
        "colab": {
          "base_uri": "https://localhost:8080/"
        },
        "id": "RRY4I6eC6PxJ",
        "outputId": "65672841-0b4c-41ab-d711-78e8af7c0710"
      },
      "execution_count": 15,
      "outputs": [
        {
          "output_type": "execute_result",
          "data": {
            "text/plain": [
              "tensor([ 2.3000,  2.3031,  2.3063,  ..., 76.1823, 76.2811, 76.3800])"
            ]
          },
          "metadata": {},
          "execution_count": 15
        }
      ]
    },
    {
      "cell_type": "code",
      "source": [
        "w=torch.randn(4)\n",
        "a,b,c,d = w[0],w[1],w[2],w[3]\n",
        "a,b,c,d"
      ],
      "metadata": {
        "colab": {
          "base_uri": "https://localhost:8080/"
        },
        "id": "Vv9HL4SJ5Hj8",
        "outputId": "63be14a2-76ea-495b-d8dc-ce991d62be74"
      },
      "execution_count": 16,
      "outputs": [
        {
          "output_type": "execute_result",
          "data": {
            "text/plain": [
              "(tensor(-1.0303), tensor(0.1788), tensor(0.8315), tensor(0.7090))"
            ]
          },
          "metadata": {},
          "execution_count": 16
        }
      ]
    },
    {
      "cell_type": "code",
      "source": [
        "lr = 0.0000001\n",
        "for i in range(1000):\n",
        "  y_pred = a+b*(x)+c*(x**2)+d*(x**3)\n",
        "  loss = (y_pred-y).pow(2).sum().item()\n",
        "  if i%100==0:\n",
        "    print(i,loss)\n",
        "  grad_a = 2*(y_pred-y).sum()\n",
        "  grad_b = 2*(x*(y_pred-y)).sum()\n",
        "  grad_c = 2*(x**2*(y_pred-y)).sum()\n",
        "  grad_d = 2*(x**3*(y_pred-y)).sum()\n",
        "\n",
        "  a=a-lr*grad_a\n",
        "  b=b-lr*grad_b\n",
        "  c=c-lr*grad_c\n",
        "  d=d-lr*grad_d\n",
        "\n",
        "print(f'y = {a.item()}+{b.item()}x+{c.item()}x^2+{d.item()}x^3')"
      ],
      "metadata": {
        "colab": {
          "base_uri": "https://localhost:8080/"
        },
        "id": "JAKceo_L6UdL",
        "outputId": "16f9dd01-2fe6-4448-c1cb-fcc40fb28277"
      },
      "execution_count": 17,
      "outputs": [
        {
          "output_type": "stream",
          "name": "stdout",
          "text": [
            "0 1617921.5\n",
            "100 529291.875\n",
            "200 174584.59375\n",
            "300 58941.7109375\n",
            "400 21173.806640625\n",
            "500 8777.1015625\n",
            "600 4649.26611328125\n",
            "700 3219.334228515625\n",
            "800 2672.51318359375\n",
            "900 2417.44189453125\n",
            "y = 0.7768562436103821+2.5388245582580566x+4.459080696105957x^2+6.663086414337158x^3\n"
          ]
        }
      ]
    }
  ]
}