{
  "nbformat": 4,
  "nbformat_minor": 0,
  "metadata": {
    "colab": {
      "provenance": []
    },
    "kernelspec": {
      "name": "python3",
      "display_name": "Python 3"
    },
    "language_info": {
      "name": "python"
    }
  },
  "cells": [
    {
      "cell_type": "code",
      "execution_count": 1,
      "metadata": {
        "id": "lYHl_hazzUbA"
      },
      "outputs": [],
      "source": [
        "import torch\n",
        "import numpy as np\n",
        "from sklearn.datasets import make_blobs\n",
        "from sklearn.model_selection import train_test_split\n",
        "from sklearn.preprocessing import StandardScaler\n",
        "from sklearn.datasets import load_digits\n",
        "from torch.utils.data import DataLoader,Dataset"
      ]
    },
    {
      "cell_type": "code",
      "source": [
        "X,y = load_digits(return_X_y=True)\n",
        "X=X.flatten().reshape(-1,64)\n",
        "X,y,X.shape,y.shape"
      ],
      "metadata": {
        "colab": {
          "base_uri": "https://localhost:8080/"
        },
        "id": "d7tr9dvz7cDy",
        "outputId": "b21feb11-52e6-45ae-e74e-0a4bf0aa4ee4"
      },
      "execution_count": 2,
      "outputs": [
        {
          "output_type": "execute_result",
          "data": {
            "text/plain": [
              "(array([[ 0.,  0.,  5., ...,  0.,  0.,  0.],\n",
              "        [ 0.,  0.,  0., ..., 10.,  0.,  0.],\n",
              "        [ 0.,  0.,  0., ..., 16.,  9.,  0.],\n",
              "        ...,\n",
              "        [ 0.,  0.,  1., ...,  6.,  0.,  0.],\n",
              "        [ 0.,  0.,  2., ..., 12.,  0.,  0.],\n",
              "        [ 0.,  0., 10., ..., 12.,  1.,  0.]]),\n",
              " array([0, 1, 2, ..., 8, 9, 8]),\n",
              " (1797, 64),\n",
              " (1797,))"
            ]
          },
          "metadata": {},
          "execution_count": 2
        }
      ]
    },
    {
      "cell_type": "code",
      "source": [
        "s = StandardScaler()\n",
        "X = s.fit_transform(X)\n",
        "X"
      ],
      "metadata": {
        "colab": {
          "base_uri": "https://localhost:8080/"
        },
        "id": "ZSzgzVjJ73wg",
        "outputId": "acdb3e15-1dd3-4786-9dcc-a4143b2c4a48"
      },
      "execution_count": 3,
      "outputs": [
        {
          "output_type": "execute_result",
          "data": {
            "text/plain": [
              "array([[ 0.        , -0.33501649, -0.04308102, ..., -1.14664746,\n",
              "        -0.5056698 , -0.19600752],\n",
              "       [ 0.        , -0.33501649, -1.09493684, ...,  0.54856067,\n",
              "        -0.5056698 , -0.19600752],\n",
              "       [ 0.        , -0.33501649, -1.09493684, ...,  1.56568555,\n",
              "         1.6951369 , -0.19600752],\n",
              "       ...,\n",
              "       [ 0.        , -0.33501649, -0.88456568, ..., -0.12952258,\n",
              "        -0.5056698 , -0.19600752],\n",
              "       [ 0.        , -0.33501649, -0.67419451, ...,  0.8876023 ,\n",
              "        -0.5056698 , -0.19600752],\n",
              "       [ 0.        , -0.33501649,  1.00877481, ...,  0.8876023 ,\n",
              "        -0.26113572, -0.19600752]])"
            ]
          },
          "metadata": {},
          "execution_count": 3
        }
      ]
    },
    {
      "cell_type": "code",
      "source": [
        "X = torch.tensor(X,dtype=torch.float32)\n",
        "y = torch.tensor(y,dtype=torch.long)"
      ],
      "metadata": {
        "id": "U49Z9P0QeWds"
      },
      "execution_count": 4,
      "outputs": []
    },
    {
      "cell_type": "code",
      "source": [
        "X_train,X_test,y_train,y_test = train_test_split(X,y,test_size=0.2,random_state=42)"
      ],
      "metadata": {
        "id": "BX3CTpzfewm1"
      },
      "execution_count": 5,
      "outputs": []
    },
    {
      "cell_type": "code",
      "source": [
        "class CustomDataset(Dataset):\n",
        "  def __init__(self,X,y):\n",
        "    self.X = X\n",
        "    self.y = y\n",
        "\n",
        "  def __len__(self):\n",
        "    return len(self.X)\n",
        "\n",
        "  def __getitem__(self,idx):\n",
        "    return self.X[idx],self.y[idx]"
      ],
      "metadata": {
        "id": "f1kB7dodf6Hz"
      },
      "execution_count": 6,
      "outputs": []
    },
    {
      "cell_type": "code",
      "source": [
        "train_dataset = CustomDataset(X_train,y_train)\n",
        "test_dataset = CustomDataset(X_test,y_test)\n",
        "train_dataloader = DataLoader(train_dataset, batch_size=16, shuffle=True)\n",
        "test_dataloader = DataLoader(test_dataset, batch_size=16, shuffle=True)\n"
      ],
      "metadata": {
        "id": "r5kOebTGfBBq"
      },
      "execution_count": 7,
      "outputs": []
    },
    {
      "cell_type": "code",
      "source": [
        "input_dim = 64\n",
        "hidden_dim = 64\n",
        "output_dim = 10"
      ],
      "metadata": {
        "id": "-cc7NAna9NuF"
      },
      "execution_count": 8,
      "outputs": []
    },
    {
      "cell_type": "code",
      "source": [
        "class SimpleNN(torch.nn.Module):\n",
        "  def __init__(self):\n",
        "    super(SimpleNN,self).__init__()\n",
        "    self.fc1 = torch.nn.Linear(input_dim,hidden_dim)\n",
        "    self.fc2 = torch.nn.Linear(hidden_dim,hidden_dim)\n",
        "    self.fc3 = torch.nn.Linear(hidden_dim,output_dim)\n",
        "\n",
        "  def forward(self,x):\n",
        "    x = torch.relu(self.fc1(x))\n",
        "    x = torch.relu(self.fc2(x))\n",
        "    x = torch.softmax(self.fc3(x),dim=1)\n",
        "    return x\n",
        "\n"
      ],
      "metadata": {
        "id": "iKxPFrw29kYr"
      },
      "execution_count": 9,
      "outputs": []
    },
    {
      "cell_type": "code",
      "source": [
        "model = SimpleNN()\n",
        "criterion = torch.nn.CrossEntropyLoss()\n",
        "optimizer = torch.optim.Adam(model.parameters(),lr=0.0001)"
      ],
      "metadata": {
        "id": "N4_OsyP3g-ce"
      },
      "execution_count": 10,
      "outputs": []
    },
    {
      "cell_type": "code",
      "source": [
        "epochs = 100\n",
        "for epoch in range(epochs):\n",
        "  for i,(x,y) in enumerate(train_dataloader):\n",
        "    # forward pass\n",
        "    y_pred = model(x)\n",
        "    loss = criterion(y_pred,y)\n",
        "    optimizer.zero_grad()\n",
        "\n",
        "    # backward pass\n",
        "    loss.backward()\n",
        "    optimizer.step()\n",
        "  print(f\"Epoch {epoch+1}/{epochs}, Loss: {loss.item()}\")"
      ],
      "metadata": {
        "colab": {
          "base_uri": "https://localhost:8080/"
        },
        "id": "lNhCFO7QhFLs",
        "outputId": "0b96dd13-b87c-4a60-d062-c3f8f1f7accb"
      },
      "execution_count": 11,
      "outputs": [
        {
          "output_type": "stream",
          "name": "stdout",
          "text": [
            "Epoch 1/100, Loss: 2.3011484146118164\n",
            "Epoch 2/100, Loss: 2.288142204284668\n",
            "Epoch 3/100, Loss: 2.2500391006469727\n",
            "Epoch 4/100, Loss: 2.225463390350342\n",
            "Epoch 5/100, Loss: 2.097933292388916\n",
            "Epoch 6/100, Loss: 2.081578254699707\n",
            "Epoch 7/100, Loss: 1.7957916259765625\n",
            "Epoch 8/100, Loss: 1.9035580158233643\n",
            "Epoch 9/100, Loss: 1.8224632740020752\n",
            "Epoch 10/100, Loss: 1.9153473377227783\n",
            "Epoch 11/100, Loss: 1.6915968656539917\n",
            "Epoch 12/100, Loss: 1.75942862033844\n",
            "Epoch 13/100, Loss: 1.5966464281082153\n",
            "Epoch 14/100, Loss: 1.57568359375\n",
            "Epoch 15/100, Loss: 1.6032344102859497\n",
            "Epoch 16/100, Loss: 1.4945299625396729\n",
            "Epoch 17/100, Loss: 1.5626307725906372\n",
            "Epoch 18/100, Loss: 1.5925840139389038\n",
            "Epoch 19/100, Loss: 1.6172091960906982\n",
            "Epoch 20/100, Loss: 1.499048113822937\n",
            "Epoch 21/100, Loss: 1.5829837322235107\n",
            "Epoch 22/100, Loss: 1.564858078956604\n",
            "Epoch 23/100, Loss: 1.4734679460525513\n",
            "Epoch 24/100, Loss: 1.4846292734146118\n",
            "Epoch 25/100, Loss: 1.4769288301467896\n",
            "Epoch 26/100, Loss: 1.514197587966919\n",
            "Epoch 27/100, Loss: 1.4936633110046387\n",
            "Epoch 28/100, Loss: 1.4982054233551025\n",
            "Epoch 29/100, Loss: 1.4763604402542114\n",
            "Epoch 30/100, Loss: 1.5119162797927856\n",
            "Epoch 31/100, Loss: 1.5081499814987183\n",
            "Epoch 32/100, Loss: 1.465437412261963\n",
            "Epoch 33/100, Loss: 1.4834673404693604\n",
            "Epoch 34/100, Loss: 1.5788098573684692\n",
            "Epoch 35/100, Loss: 1.4683502912521362\n",
            "Epoch 36/100, Loss: 1.537497878074646\n",
            "Epoch 37/100, Loss: 1.479628324508667\n",
            "Epoch 38/100, Loss: 1.5688776969909668\n",
            "Epoch 39/100, Loss: 1.4710570573806763\n",
            "Epoch 40/100, Loss: 1.4794666767120361\n",
            "Epoch 41/100, Loss: 1.467710018157959\n",
            "Epoch 42/100, Loss: 1.4754350185394287\n",
            "Epoch 43/100, Loss: 1.5631177425384521\n",
            "Epoch 44/100, Loss: 1.490524172782898\n",
            "Epoch 45/100, Loss: 1.5406111478805542\n",
            "Epoch 46/100, Loss: 1.5371248722076416\n",
            "Epoch 47/100, Loss: 1.467517375946045\n",
            "Epoch 48/100, Loss: 1.4764258861541748\n",
            "Epoch 49/100, Loss: 1.4623656272888184\n",
            "Epoch 50/100, Loss: 1.4647024869918823\n",
            "Epoch 51/100, Loss: 1.4670259952545166\n",
            "Epoch 52/100, Loss: 1.4709186553955078\n",
            "Epoch 53/100, Loss: 1.4754712581634521\n",
            "Epoch 54/100, Loss: 1.4647186994552612\n",
            "Epoch 55/100, Loss: 1.4707636833190918\n",
            "Epoch 56/100, Loss: 1.47089684009552\n",
            "Epoch 57/100, Loss: 1.4617688655853271\n",
            "Epoch 58/100, Loss: 1.4667161703109741\n",
            "Epoch 59/100, Loss: 1.4723891019821167\n",
            "Epoch 60/100, Loss: 1.4659154415130615\n",
            "Epoch 61/100, Loss: 1.4642188549041748\n",
            "Epoch 62/100, Loss: 1.4658715724945068\n",
            "Epoch 63/100, Loss: 1.46547532081604\n",
            "Epoch 64/100, Loss: 1.4631123542785645\n",
            "Epoch 65/100, Loss: 1.4652092456817627\n",
            "Epoch 66/100, Loss: 1.4767473936080933\n",
            "Epoch 67/100, Loss: 1.4617151021957397\n",
            "Epoch 68/100, Loss: 1.4632712602615356\n",
            "Epoch 69/100, Loss: 1.4716225862503052\n",
            "Epoch 70/100, Loss: 1.4612256288528442\n",
            "Epoch 71/100, Loss: 1.4711835384368896\n",
            "Epoch 72/100, Loss: 1.5419787168502808\n",
            "Epoch 73/100, Loss: 1.4633536338806152\n",
            "Epoch 74/100, Loss: 1.4672882556915283\n",
            "Epoch 75/100, Loss: 1.4658660888671875\n",
            "Epoch 76/100, Loss: 1.4727154970169067\n",
            "Epoch 77/100, Loss: 1.5431582927703857\n",
            "Epoch 78/100, Loss: 1.5392773151397705\n",
            "Epoch 79/100, Loss: 1.5378323793411255\n",
            "Epoch 80/100, Loss: 1.467064619064331\n",
            "Epoch 81/100, Loss: 1.4639220237731934\n",
            "Epoch 82/100, Loss: 1.5372949838638306\n",
            "Epoch 83/100, Loss: 1.4661511182785034\n",
            "Epoch 84/100, Loss: 1.4631104469299316\n",
            "Epoch 85/100, Loss: 1.4637242555618286\n",
            "Epoch 86/100, Loss: 1.4636651277542114\n",
            "Epoch 87/100, Loss: 1.4628599882125854\n",
            "Epoch 88/100, Loss: 1.4616903066635132\n",
            "Epoch 89/100, Loss: 1.4657891988754272\n",
            "Epoch 90/100, Loss: 1.4612383842468262\n",
            "Epoch 91/100, Loss: 1.462602138519287\n",
            "Epoch 92/100, Loss: 1.4680129289627075\n",
            "Epoch 93/100, Loss: 1.4620912075042725\n",
            "Epoch 94/100, Loss: 1.4627280235290527\n",
            "Epoch 95/100, Loss: 1.4675923585891724\n",
            "Epoch 96/100, Loss: 1.4636433124542236\n",
            "Epoch 97/100, Loss: 1.4624993801116943\n",
            "Epoch 98/100, Loss: 1.4613476991653442\n",
            "Epoch 99/100, Loss: 1.4638100862503052\n",
            "Epoch 100/100, Loss: 1.462721586227417\n"
          ]
        }
      ]
    },
    {
      "cell_type": "code",
      "source": [
        "correct =0\n",
        "\n",
        "for i,(x,y) in enumerate(test_dataloader):\n",
        "  y_pred = model(x)\n",
        "  correct+=(y_pred.argmax(dim=1)==y).sum().item()\n",
        "print(f\"Accuracy: {correct/len(test_dataset)}\")\n",
        "\n",
        ""
      ],
      "metadata": {
        "colab": {
          "base_uri": "https://localhost:8080/"
        },
        "id": "LKR3D7IViunH",
        "outputId": "188c1cfd-ddd7-421b-c514-8429bfcdccfe"
      },
      "execution_count": 12,
      "outputs": [
        {
          "output_type": "stream",
          "name": "stdout",
          "text": [
            "Accuracy: 0.9777777777777777\n"
          ]
        }
      ]
    }
  ]
}